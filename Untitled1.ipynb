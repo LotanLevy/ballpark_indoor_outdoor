{
  "nbformat": 4,
  "nbformat_minor": 0,
  "metadata": {
    "colab": {
      "name": "Untitled1.ipynb",
      "provenance": [],
      "authorship_tag": "ABX9TyOrEomjxRyKuZm57BVnVMhv",
      "include_colab_link": true
    },
    "kernelspec": {
      "name": "python3",
      "display_name": "Python 3"
    },
    "accelerator": "GPU"
  },
  "cells": [
    {
      "cell_type": "markdown",
      "metadata": {
        "id": "view-in-github",
        "colab_type": "text"
      },
      "source": [
        "<a href=\"https://colab.research.google.com/github/LotanLevy/ballpark_indoor_outdoor/blob/master/Untitled1.ipynb\" target=\"_parent\"><img src=\"https://colab.research.google.com/assets/colab-badge.svg\" alt=\"Open In Colab\"/></a>"
      ]
    },
    {
      "cell_type": "code",
      "metadata": {
        "id": "NDz3RO_eH4VB"
      },
      "source": [
        "pip install tensorflow-gpu==2.3.0"
      ],
      "execution_count": null,
      "outputs": []
    },
    {
      "cell_type": "code",
      "metadata": {
        "id": "f1lpkrLMH6Rg",
        "outputId": "394ab900-163c-446c-f1fc-f73f73144351",
        "colab": {
          "base_uri": "https://localhost:8080/"
        }
      },
      "source": [
        "from google.colab import drive\n",
        "drive.mount('/content/drive')"
      ],
      "execution_count": 2,
      "outputs": [
        {
          "output_type": "stream",
          "text": [
            "Mounted at /content/drive\n"
          ],
          "name": "stdout"
        }
      ]
    },
    {
      "cell_type": "code",
      "metadata": {
        "id": "fL-xmtPdH7w5",
        "outputId": "b300f82c-d025-43c7-b4a0-7c7863153c5c",
        "colab": {
          "base_uri": "https://localhost:8080/"
        }
      },
      "source": [
        "!git clone https://github.com/LotanLevy/ballpark_indoor_outdoor"
      ],
      "execution_count": 3,
      "outputs": [
        {
          "output_type": "stream",
          "text": [
            "Cloning into 'ballpark_indoor_outdoor'...\n",
            "remote: Enumerating objects: 121, done.\u001b[K\n",
            "remote: Counting objects: 100% (121/121), done.\u001b[K\n",
            "remote: Compressing objects: 100% (87/87), done.\u001b[K\n",
            "remote: Total 121 (delta 66), reused 85 (delta 32), pack-reused 0\u001b[K\n",
            "Receiving objects: 100% (121/121), 33.71 KiB | 472.00 KiB/s, done.\n",
            "Resolving deltas: 100% (66/66), done.\n"
          ],
          "name": "stdout"
        }
      ]
    },
    {
      "cell_type": "code",
      "metadata": {
        "id": "BHkbbs_pS6pH",
        "outputId": "1c702db3-922e-4a37-f422-be9300549a82",
        "colab": {
          "base_uri": "https://localhost:8080/"
        }
      },
      "source": [
        "!git pull"
      ],
      "execution_count": 16,
      "outputs": [
        {
          "output_type": "stream",
          "text": [
            "remote: Enumerating objects: 7, done.\u001b[K\n",
            "remote: Counting objects:  14% (1/7)\u001b[K\rremote: Counting objects:  28% (2/7)\u001b[K\rremote: Counting objects:  42% (3/7)\u001b[K\rremote: Counting objects:  57% (4/7)\u001b[K\rremote: Counting objects:  71% (5/7)\u001b[K\rremote: Counting objects:  85% (6/7)\u001b[K\rremote: Counting objects: 100% (7/7)\u001b[K\rremote: Counting objects: 100% (7/7), done.\u001b[K\n",
            "remote: Compressing objects: 100% (1/1)\u001b[K\rremote: Compressing objects: 100% (1/1), done.\u001b[K\n",
            "remote: Total 4 (delta 3), reused 4 (delta 3), pack-reused 0\u001b[K\n",
            "Unpacking objects:  25% (1/4)   \rUnpacking objects:  50% (2/4)   \rUnpacking objects:  75% (3/4)   \rUnpacking objects: 100% (4/4)   \rUnpacking objects: 100% (4/4), done.\n",
            "From https://github.com/LotanLevy/ballpark_indoor_outdoor\n",
            "   c61ce9b..20a77a4  master     -> origin/master\n",
            "Updating c61ce9b..20a77a4\n",
            "Fast-forward\n",
            " affordance_tools/BallparkClassifier.py | 13 \u001b[32m+++++\u001b[m\u001b[31m--------\u001b[m\n",
            " 1 file changed, 5 insertions(+), 8 deletions(-)\n"
          ],
          "name": "stdout"
        }
      ]
    },
    {
      "cell_type": "code",
      "metadata": {
        "id": "ZcPY-SPcH-rQ",
        "outputId": "db68f1ab-bc2a-406d-982a-1b5284579a99",
        "colab": {
          "base_uri": "https://localhost:8080/"
        }
      },
      "source": [
        "cd ballpark_indoor_outdoor"
      ],
      "execution_count": 4,
      "outputs": [
        {
          "output_type": "stream",
          "text": [
            "/content/ballpark_indoor_outdoor\n"
          ],
          "name": "stdout"
        }
      ]
    },
    {
      "cell_type": "code",
      "metadata": {
        "id": "8fUNevRbIu_3"
      },
      "source": [
        "!python BinaryClassifier.py --train_root_path=\"/content/drive/My Drive/Colab Notebooks/affordances/datasets/binary_train_indoor_outdoor\" --val_root_path=\"/content/drive/My Drive/Colab Notebooks/affordances/datasets/binary_val_indoor_outdoor\" --epochs=3 --output_path=\"/content/drive/My Drive/Colab Notebooks/affordances/experiments/ballpark/binary_class\""
      ],
      "execution_count": null,
      "outputs": []
    },
    {
      "cell_type": "code",
      "metadata": {
        "id": "TtStCWk6H_n4",
        "outputId": "955781cb-4d1f-4d70-f797-8ffd2cac126b",
        "colab": {
          "base_uri": "https://localhost:8080/"
        }
      },
      "source": [
        "!python ballpark.py --cls_method -cf=\"Contraints_scene_loose.txt\" --train_root_path=\"/content/drive/My Drive/Colab Notebooks/affordances/datasets/scene_google\" --val_root_path=\"/content/drive/My Drive/Colab Notebooks/affordances/datasets/indoor_outdoor_imagenet_validation\" --output_path=\"/content/drive/My Drive/Colab Notebooks/affordances/experiments/ballpark/ballpark_classification_loose1\""
      ],
      "execution_count": 5,
      "outputs": [
        {
          "output_type": "stream",
          "text": [
            "2020-11-19 07:58:23.798213: I tensorflow/stream_executor/platform/default/dso_loader.cc:48] Successfully opened dynamic library libcudart.so.10.1\n",
            "Reads constraints file\n",
            "balcony \n",
            "['balcony ']\n",
            "bedroom \n",
            "['bedroom ']\n",
            "chimney \n",
            "['chimney ']\n",
            "garden \n",
            "['garden ']\n",
            "kitchen \n",
            "['kitchen ']\n",
            "patio \n",
            "['patio ']\n",
            "pool \n",
            "['pool ']\n",
            "restaurant \n",
            "['restaurant ']\n",
            "sitting_area \n",
            "['sitting_area ']\n",
            "bedroom - balcony \n",
            "['bedroom ', ' balcony ']\n",
            "kitchen - balcony \n",
            "['kitchen ', ' balcony ']\n",
            "bedroom - garden \n",
            "['bedroom ', ' garden ']\n",
            "kitchen - garden \n",
            "['kitchen ', ' garden ']\n",
            "bedroom - pool \n",
            "['bedroom ', ' pool ']\n",
            "kitchen - pool \n",
            "['kitchen ', ' pool ']\n",
            "bedroom - sitting_area \n",
            "['bedroom ', ' sitting_area ']\n",
            "kitchen - sitting_area \n",
            "['kitchen ', ' sitting_area ']\n",
            "Initialize dataloader\n",
            "Found 3615 images belonging to 9 classes.\n",
            "Found 0 images belonging to 9 classes.\n",
            "Found 517 images belonging to 2 classes.\n",
            "Found 0 images belonging to 2 classes.\n",
            "Split data into bags\n",
            "2020-11-19 07:58:58.873325: I tensorflow/stream_executor/platform/default/dso_loader.cc:48] Successfully opened dynamic library libcuda.so.1\n",
            "2020-11-19 07:58:58.928567: I tensorflow/stream_executor/cuda/cuda_gpu_executor.cc:982] successful NUMA node read from SysFS had negative value (-1), but there must be at least one NUMA node, so returning NUMA node zero\n",
            "2020-11-19 07:58:58.929354: I tensorflow/core/common_runtime/gpu/gpu_device.cc:1716] Found device 0 with properties: \n",
            "pciBusID: 0000:00:04.0 name: Tesla K80 computeCapability: 3.7\n",
            "coreClock: 0.8235GHz coreCount: 13 deviceMemorySize: 11.17GiB deviceMemoryBandwidth: 223.96GiB/s\n",
            "2020-11-19 07:58:58.929410: I tensorflow/stream_executor/platform/default/dso_loader.cc:48] Successfully opened dynamic library libcudart.so.10.1\n",
            "2020-11-19 07:58:59.230015: I tensorflow/stream_executor/platform/default/dso_loader.cc:48] Successfully opened dynamic library libcublas.so.10\n",
            "2020-11-19 07:58:59.354504: I tensorflow/stream_executor/platform/default/dso_loader.cc:48] Successfully opened dynamic library libcufft.so.10\n",
            "2020-11-19 07:58:59.382675: I tensorflow/stream_executor/platform/default/dso_loader.cc:48] Successfully opened dynamic library libcurand.so.10\n",
            "2020-11-19 07:58:59.668196: I tensorflow/stream_executor/platform/default/dso_loader.cc:48] Successfully opened dynamic library libcusolver.so.10\n",
            "2020-11-19 07:58:59.701292: I tensorflow/stream_executor/platform/default/dso_loader.cc:48] Successfully opened dynamic library libcusparse.so.10\n",
            "2020-11-19 07:59:00.227274: I tensorflow/stream_executor/platform/default/dso_loader.cc:48] Successfully opened dynamic library libcudnn.so.7\n",
            "2020-11-19 07:59:00.227481: I tensorflow/stream_executor/cuda/cuda_gpu_executor.cc:982] successful NUMA node read from SysFS had negative value (-1), but there must be at least one NUMA node, so returning NUMA node zero\n",
            "2020-11-19 07:59:00.228408: I tensorflow/stream_executor/cuda/cuda_gpu_executor.cc:982] successful NUMA node read from SysFS had negative value (-1), but there must be at least one NUMA node, so returning NUMA node zero\n",
            "2020-11-19 07:59:00.229138: I tensorflow/core/common_runtime/gpu/gpu_device.cc:1858] Adding visible gpu devices: 0\n",
            "2020-11-19 07:59:00.229550: I tensorflow/core/platform/cpu_feature_guard.cc:142] This TensorFlow binary is optimized with oneAPI Deep Neural Network Library (oneDNN)to use the following CPU instructions in performance-critical operations:  AVX2 FMA\n",
            "To enable them in other operations, rebuild TensorFlow with the appropriate compiler flags.\n",
            "2020-11-19 07:59:00.236583: I tensorflow/core/platform/profile_utils/cpu_utils.cc:104] CPU Frequency: 2300000000 Hz\n",
            "2020-11-19 07:59:00.236922: I tensorflow/compiler/xla/service/service.cc:168] XLA service 0x2c86f40 initialized for platform Host (this does not guarantee that XLA will be used). Devices:\n",
            "2020-11-19 07:59:00.236972: I tensorflow/compiler/xla/service/service.cc:176]   StreamExecutor device (0): Host, Default Version\n",
            "2020-11-19 07:59:00.321110: I tensorflow/stream_executor/cuda/cuda_gpu_executor.cc:982] successful NUMA node read from SysFS had negative value (-1), but there must be at least one NUMA node, so returning NUMA node zero\n",
            "2020-11-19 07:59:00.322143: I tensorflow/compiler/xla/service/service.cc:168] XLA service 0x2c87100 initialized for platform CUDA (this does not guarantee that XLA will be used). Devices:\n",
            "2020-11-19 07:59:00.322187: I tensorflow/compiler/xla/service/service.cc:176]   StreamExecutor device (0): Tesla K80, Compute Capability 3.7\n",
            "2020-11-19 07:59:00.323528: I tensorflow/stream_executor/cuda/cuda_gpu_executor.cc:982] successful NUMA node read from SysFS had negative value (-1), but there must be at least one NUMA node, so returning NUMA node zero\n",
            "2020-11-19 07:59:00.324294: I tensorflow/core/common_runtime/gpu/gpu_device.cc:1716] Found device 0 with properties: \n",
            "pciBusID: 0000:00:04.0 name: Tesla K80 computeCapability: 3.7\n",
            "coreClock: 0.8235GHz coreCount: 13 deviceMemorySize: 11.17GiB deviceMemoryBandwidth: 223.96GiB/s\n",
            "2020-11-19 07:59:00.324369: I tensorflow/stream_executor/platform/default/dso_loader.cc:48] Successfully opened dynamic library libcudart.so.10.1\n",
            "2020-11-19 07:59:00.324436: I tensorflow/stream_executor/platform/default/dso_loader.cc:48] Successfully opened dynamic library libcublas.so.10\n",
            "2020-11-19 07:59:00.324489: I tensorflow/stream_executor/platform/default/dso_loader.cc:48] Successfully opened dynamic library libcufft.so.10\n",
            "2020-11-19 07:59:00.324536: I tensorflow/stream_executor/platform/default/dso_loader.cc:48] Successfully opened dynamic library libcurand.so.10\n",
            "2020-11-19 07:59:00.324583: I tensorflow/stream_executor/platform/default/dso_loader.cc:48] Successfully opened dynamic library libcusolver.so.10\n",
            "2020-11-19 07:59:00.324655: I tensorflow/stream_executor/platform/default/dso_loader.cc:48] Successfully opened dynamic library libcusparse.so.10\n",
            "2020-11-19 07:59:00.324709: I tensorflow/stream_executor/platform/default/dso_loader.cc:48] Successfully opened dynamic library libcudnn.so.7\n",
            "2020-11-19 07:59:00.324834: I tensorflow/stream_executor/cuda/cuda_gpu_executor.cc:982] successful NUMA node read from SysFS had negative value (-1), but there must be at least one NUMA node, so returning NUMA node zero\n",
            "2020-11-19 07:59:00.325579: I tensorflow/stream_executor/cuda/cuda_gpu_executor.cc:982] successful NUMA node read from SysFS had negative value (-1), but there must be at least one NUMA node, so returning NUMA node zero\n",
            "2020-11-19 07:59:00.326307: I tensorflow/core/common_runtime/gpu/gpu_device.cc:1858] Adding visible gpu devices: 0\n",
            "2020-11-19 07:59:00.326383: I tensorflow/stream_executor/platform/default/dso_loader.cc:48] Successfully opened dynamic library libcudart.so.10.1\n",
            "2020-11-19 07:59:00.864546: I tensorflow/core/common_runtime/gpu/gpu_device.cc:1257] Device interconnect StreamExecutor with strength 1 edge matrix:\n",
            "2020-11-19 07:59:00.864611: I tensorflow/core/common_runtime/gpu/gpu_device.cc:1263]      0 \n",
            "2020-11-19 07:59:00.864681: I tensorflow/core/common_runtime/gpu/gpu_device.cc:1276] 0:   N \n",
            "2020-11-19 07:59:00.864929: I tensorflow/stream_executor/cuda/cuda_gpu_executor.cc:982] successful NUMA node read from SysFS had negative value (-1), but there must be at least one NUMA node, so returning NUMA node zero\n",
            "2020-11-19 07:59:00.865788: I tensorflow/stream_executor/cuda/cuda_gpu_executor.cc:982] successful NUMA node read from SysFS had negative value (-1), but there must be at least one NUMA node, so returning NUMA node zero\n",
            "2020-11-19 07:59:00.866504: W tensorflow/core/common_runtime/gpu/gpu_bfc_allocator.cc:39] Overriding allow_growth setting because the TF_FORCE_GPU_ALLOW_GROWTH environment variable is set. Original config value was 0.\n",
            "2020-11-19 07:59:00.866561: I tensorflow/core/common_runtime/gpu/gpu_device.cc:1402] Created TensorFlow device (/job:localhost/replica:0/task:0/device:GPU:0 with 10618 MB memory) -> physical GPU (device: 0, name: Tesla K80, pci bus id: 0000:00:04.0, compute capability: 3.7)\n",
            "Downloading data from https://storage.googleapis.com/tensorflow/keras-applications/vgg16/vgg16_weights_tf_dim_ordering_tf_kernels.h5\n",
            "553467904/553467096 [==============================] - 6s 0us/step\n",
            "Bags names dict_keys(['balcony', 'bedroom', 'chimney', 'garden', 'kitchen', 'patio', 'pool', 'restaurant', 'sitting_area'])\n",
            "Bags names dict_keys(['0', '1'])\n",
            "Initialize ballpark model\n",
            "Initialize ballpark parameters\n",
            "Bags names dict_keys(['balcony', 'bedroom', 'chimney', 'garden', 'kitchen', 'patio', 'pool', 'restaurant', 'sitting_area'])\n",
            "Constraints diff_lowers [(('bedroom', 'balcony'), 0.1), (('kitchen', 'balcony'), 0.1), (('bedroom', 'garden'), 0.1), (('kitchen', 'garden'), 0.1), (('bedroom', 'pool'), 0.1), (('kitchen', 'pool'), 0.1), (('bedroom', 'sitting_area'), 0.1), (('kitchen', 'sitting_area'), 0.1)]\n",
            "diff_uppers []\n",
            "lowers {'bedroom': 0.7, 'kitchen': 0.7, 'restaurant': 0.6, 'sitting_area': 0.6}\n",
            "uppers {'balcony': 0.3, 'chimney': 0.4, 'garden': 0.3, 'patio': 0.3, 'pool': 0.3}\n",
            "\n",
            "constraints are legal - True\n",
            "w size 4096\n",
            "y size 3615\n",
            "Start ballpark learning\n",
            "[-0.00156937  0.01978489  0.01416984 ... -0.00955635  0.00592464\n",
            " -0.00403803]\n",
            "2020-11-19 07:59:25.573292: I tensorflow/stream_executor/platform/default/dso_loader.cc:48] Successfully opened dynamic library libcudnn.so.7\n",
            "2020-11-19 07:59:29.513843: I tensorflow/stream_executor/platform/default/dso_loader.cc:48] Successfully opened dynamic library libcublas.so.10\n",
            "0.0\n",
            "exit\n",
            "<Figure size 640x480 with 1 Axes>\n",
            "220 46 42 209\n",
            "<Figure size 640x480 with 1 Axes>\n",
            "<Figure size 640x480 with 1 Axes>\n"
          ],
          "name": "stdout"
        }
      ]
    }
  ]
}