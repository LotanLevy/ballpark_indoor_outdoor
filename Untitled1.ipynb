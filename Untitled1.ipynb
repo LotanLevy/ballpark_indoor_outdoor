{
  "nbformat": 4,
  "nbformat_minor": 0,
  "metadata": {
    "colab": {
      "name": "Untitled1.ipynb",
      "provenance": [],
      "authorship_tag": "ABX9TyMME/AYKjh5Do7rBKST8CgL",
      "include_colab_link": true
    },
    "kernelspec": {
      "name": "python3",
      "display_name": "Python 3"
    },
    "accelerator": "GPU"
  },
  "cells": [
    {
      "cell_type": "markdown",
      "metadata": {
        "id": "view-in-github",
        "colab_type": "text"
      },
      "source": [
        "<a href=\"https://colab.research.google.com/github/LotanLevy/ballpark_indoor_outdoor/blob/master/Untitled1.ipynb\" target=\"_parent\"><img src=\"https://colab.research.google.com/assets/colab-badge.svg\" alt=\"Open In Colab\"/></a>"
      ]
    },
    {
      "cell_type": "code",
      "metadata": {
        "id": "NDz3RO_eH4VB",
        "outputId": "8312ba1e-d53e-47a7-bd00-8170abddac7e",
        "colab": {
          "base_uri": "https://localhost:8080/"
        }
      },
      "source": [
        "pip install tensorflow-gpu==2.3.0"
      ],
      "execution_count": 1,
      "outputs": [
        {
          "output_type": "stream",
          "text": [
            "Collecting tensorflow-gpu==2.3.0\n",
            "\u001b[?25l  Downloading https://files.pythonhosted.org/packages/0f/11/763f55d3d15efd778ef24453f126e6c33635680e5a2bb346da3fab5997cb/tensorflow_gpu-2.3.0-cp36-cp36m-manylinux2010_x86_64.whl (320.4MB)\n",
            "\u001b[K     |████████████████████████████████| 320.4MB 52kB/s \n",
            "\u001b[?25hRequirement already satisfied: numpy<1.19.0,>=1.16.0 in /usr/local/lib/python3.6/dist-packages (from tensorflow-gpu==2.3.0) (1.18.5)\n",
            "Requirement already satisfied: termcolor>=1.1.0 in /usr/local/lib/python3.6/dist-packages (from tensorflow-gpu==2.3.0) (1.1.0)\n",
            "Requirement already satisfied: h5py<2.11.0,>=2.10.0 in /usr/local/lib/python3.6/dist-packages (from tensorflow-gpu==2.3.0) (2.10.0)\n",
            "Requirement already satisfied: google-pasta>=0.1.8 in /usr/local/lib/python3.6/dist-packages (from tensorflow-gpu==2.3.0) (0.2.0)\n",
            "Requirement already satisfied: gast==0.3.3 in /usr/local/lib/python3.6/dist-packages (from tensorflow-gpu==2.3.0) (0.3.3)\n",
            "Requirement already satisfied: wrapt>=1.11.1 in /usr/local/lib/python3.6/dist-packages (from tensorflow-gpu==2.3.0) (1.12.1)\n",
            "Requirement already satisfied: keras-preprocessing<1.2,>=1.1.1 in /usr/local/lib/python3.6/dist-packages (from tensorflow-gpu==2.3.0) (1.1.2)\n",
            "Requirement already satisfied: absl-py>=0.7.0 in /usr/local/lib/python3.6/dist-packages (from tensorflow-gpu==2.3.0) (0.10.0)\n",
            "Requirement already satisfied: wheel>=0.26 in /usr/local/lib/python3.6/dist-packages (from tensorflow-gpu==2.3.0) (0.36.1)\n",
            "Requirement already satisfied: grpcio>=1.8.6 in /usr/local/lib/python3.6/dist-packages (from tensorflow-gpu==2.3.0) (1.34.0)\n",
            "Requirement already satisfied: protobuf>=3.9.2 in /usr/local/lib/python3.6/dist-packages (from tensorflow-gpu==2.3.0) (3.12.4)\n",
            "Requirement already satisfied: tensorflow-estimator<2.4.0,>=2.3.0 in /usr/local/lib/python3.6/dist-packages (from tensorflow-gpu==2.3.0) (2.3.0)\n",
            "Requirement already satisfied: six>=1.12.0 in /usr/local/lib/python3.6/dist-packages (from tensorflow-gpu==2.3.0) (1.15.0)\n",
            "Requirement already satisfied: scipy==1.4.1 in /usr/local/lib/python3.6/dist-packages (from tensorflow-gpu==2.3.0) (1.4.1)\n",
            "Requirement already satisfied: astunparse==1.6.3 in /usr/local/lib/python3.6/dist-packages (from tensorflow-gpu==2.3.0) (1.6.3)\n",
            "Requirement already satisfied: tensorboard<3,>=2.3.0 in /usr/local/lib/python3.6/dist-packages (from tensorflow-gpu==2.3.0) (2.3.0)\n",
            "Requirement already satisfied: opt-einsum>=2.3.2 in /usr/local/lib/python3.6/dist-packages (from tensorflow-gpu==2.3.0) (3.3.0)\n",
            "Requirement already satisfied: setuptools in /usr/local/lib/python3.6/dist-packages (from protobuf>=3.9.2->tensorflow-gpu==2.3.0) (50.3.2)\n",
            "Requirement already satisfied: requests<3,>=2.21.0 in /usr/local/lib/python3.6/dist-packages (from tensorboard<3,>=2.3.0->tensorflow-gpu==2.3.0) (2.23.0)\n",
            "Requirement already satisfied: google-auth<2,>=1.6.3 in /usr/local/lib/python3.6/dist-packages (from tensorboard<3,>=2.3.0->tensorflow-gpu==2.3.0) (1.17.2)\n",
            "Requirement already satisfied: tensorboard-plugin-wit>=1.6.0 in /usr/local/lib/python3.6/dist-packages (from tensorboard<3,>=2.3.0->tensorflow-gpu==2.3.0) (1.7.0)\n",
            "Requirement already satisfied: werkzeug>=0.11.15 in /usr/local/lib/python3.6/dist-packages (from tensorboard<3,>=2.3.0->tensorflow-gpu==2.3.0) (1.0.1)\n",
            "Requirement already satisfied: google-auth-oauthlib<0.5,>=0.4.1 in /usr/local/lib/python3.6/dist-packages (from tensorboard<3,>=2.3.0->tensorflow-gpu==2.3.0) (0.4.2)\n",
            "Requirement already satisfied: markdown>=2.6.8 in /usr/local/lib/python3.6/dist-packages (from tensorboard<3,>=2.3.0->tensorflow-gpu==2.3.0) (3.3.3)\n",
            "Requirement already satisfied: certifi>=2017.4.17 in /usr/local/lib/python3.6/dist-packages (from requests<3,>=2.21.0->tensorboard<3,>=2.3.0->tensorflow-gpu==2.3.0) (2020.12.5)\n",
            "Requirement already satisfied: idna<3,>=2.5 in /usr/local/lib/python3.6/dist-packages (from requests<3,>=2.21.0->tensorboard<3,>=2.3.0->tensorflow-gpu==2.3.0) (2.10)\n",
            "Requirement already satisfied: chardet<4,>=3.0.2 in /usr/local/lib/python3.6/dist-packages (from requests<3,>=2.21.0->tensorboard<3,>=2.3.0->tensorflow-gpu==2.3.0) (3.0.4)\n",
            "Requirement already satisfied: urllib3!=1.25.0,!=1.25.1,<1.26,>=1.21.1 in /usr/local/lib/python3.6/dist-packages (from requests<3,>=2.21.0->tensorboard<3,>=2.3.0->tensorflow-gpu==2.3.0) (1.24.3)\n",
            "Requirement already satisfied: pyasn1-modules>=0.2.1 in /usr/local/lib/python3.6/dist-packages (from google-auth<2,>=1.6.3->tensorboard<3,>=2.3.0->tensorflow-gpu==2.3.0) (0.2.8)\n",
            "Requirement already satisfied: rsa<5,>=3.1.4; python_version >= \"3\" in /usr/local/lib/python3.6/dist-packages (from google-auth<2,>=1.6.3->tensorboard<3,>=2.3.0->tensorflow-gpu==2.3.0) (4.6)\n",
            "Requirement already satisfied: cachetools<5.0,>=2.0.0 in /usr/local/lib/python3.6/dist-packages (from google-auth<2,>=1.6.3->tensorboard<3,>=2.3.0->tensorflow-gpu==2.3.0) (4.1.1)\n",
            "Requirement already satisfied: requests-oauthlib>=0.7.0 in /usr/local/lib/python3.6/dist-packages (from google-auth-oauthlib<0.5,>=0.4.1->tensorboard<3,>=2.3.0->tensorflow-gpu==2.3.0) (1.3.0)\n",
            "Requirement already satisfied: importlib-metadata; python_version < \"3.8\" in /usr/local/lib/python3.6/dist-packages (from markdown>=2.6.8->tensorboard<3,>=2.3.0->tensorflow-gpu==2.3.0) (3.1.1)\n",
            "Requirement already satisfied: pyasn1<0.5.0,>=0.4.6 in /usr/local/lib/python3.6/dist-packages (from pyasn1-modules>=0.2.1->google-auth<2,>=1.6.3->tensorboard<3,>=2.3.0->tensorflow-gpu==2.3.0) (0.4.8)\n",
            "Requirement already satisfied: oauthlib>=3.0.0 in /usr/local/lib/python3.6/dist-packages (from requests-oauthlib>=0.7.0->google-auth-oauthlib<0.5,>=0.4.1->tensorboard<3,>=2.3.0->tensorflow-gpu==2.3.0) (3.1.0)\n",
            "Requirement already satisfied: zipp>=0.5 in /usr/local/lib/python3.6/dist-packages (from importlib-metadata; python_version < \"3.8\"->markdown>=2.6.8->tensorboard<3,>=2.3.0->tensorflow-gpu==2.3.0) (3.4.0)\n",
            "Installing collected packages: tensorflow-gpu\n",
            "Successfully installed tensorflow-gpu-2.3.0\n"
          ],
          "name": "stdout"
        }
      ]
    },
    {
      "cell_type": "code",
      "metadata": {
        "id": "f1lpkrLMH6Rg",
        "colab": {
          "base_uri": "https://localhost:8080/"
        },
        "outputId": "2049d9a4-0ff9-4bcf-a409-9305b334e12b"
      },
      "source": [
        "from google.colab import drive\n",
        "drive.mount('/content/drive')"
      ],
      "execution_count": 2,
      "outputs": [
        {
          "output_type": "stream",
          "text": [
            "Mounted at /content/drive\n"
          ],
          "name": "stdout"
        }
      ]
    },
    {
      "cell_type": "code",
      "metadata": {
        "id": "fL-xmtPdH7w5",
        "colab": {
          "base_uri": "https://localhost:8080/"
        },
        "outputId": "878f0346-dfad-4572-f162-fdfd8f76d5e0"
      },
      "source": [
        "!git clone https://github.com/LotanLevy/ballpark_indoor_outdoor"
      ],
      "execution_count": 3,
      "outputs": [
        {
          "output_type": "stream",
          "text": [
            "Cloning into 'ballpark_indoor_outdoor'...\n",
            "remote: Enumerating objects: 253, done.\u001b[K\n",
            "remote: Counting objects: 100% (253/253), done.\u001b[K\n",
            "remote: Compressing objects: 100% (188/188), done.\u001b[K\n",
            "remote: Total 253 (delta 133), reused 178 (delta 63), pack-reused 0\u001b[K\n",
            "Receiving objects: 100% (253/253), 66.37 KiB | 9.48 MiB/s, done.\n",
            "Resolving deltas: 100% (133/133), done.\n"
          ],
          "name": "stdout"
        }
      ]
    },
    {
      "cell_type": "code",
      "metadata": {
        "id": "BHkbbs_pS6pH",
        "colab": {
          "base_uri": "https://localhost:8080/"
        },
        "outputId": "f1f4a437-bf78-43cd-91d7-391f85183464"
      },
      "source": [
        "!git pull"
      ],
      "execution_count": 10,
      "outputs": [
        {
          "output_type": "stream",
          "text": [
            "remote: Enumerating objects: 7, done.\u001b[K\n",
            "remote: Counting objects:  14% (1/7)\u001b[K\rremote: Counting objects:  28% (2/7)\u001b[K\rremote: Counting objects:  42% (3/7)\u001b[K\rremote: Counting objects:  57% (4/7)\u001b[K\rremote: Counting objects:  71% (5/7)\u001b[K\rremote: Counting objects:  85% (6/7)\u001b[K\rremote: Counting objects: 100% (7/7)\u001b[K\rremote: Counting objects: 100% (7/7), done.\u001b[K\n",
            "remote: Compressing objects: 100% (1/1)\u001b[K\rremote: Compressing objects: 100% (1/1), done.\u001b[K\n",
            "remote: Total 4 (delta 3), reused 4 (delta 3), pack-reused 0\u001b[K\n",
            "Unpacking objects:  25% (1/4)   \rUnpacking objects:  50% (2/4)   \rUnpacking objects:  75% (3/4)   \rUnpacking objects: 100% (4/4)   \rUnpacking objects: 100% (4/4), done.\n",
            "From https://github.com/LotanLevy/ballpark_indoor_outdoor\n",
            "   f0991f0..2440321  master     -> origin/master\n",
            "Updating f0991f0..2440321\n",
            "Fast-forward\n",
            " data_tools/dataloader.py | 2 \u001b[32m+\u001b[m\u001b[31m-\u001b[m\n",
            " 1 file changed, 1 insertion(+), 1 deletion(-)\n"
          ],
          "name": "stdout"
        }
      ]
    },
    {
      "cell_type": "code",
      "metadata": {
        "id": "ZcPY-SPcH-rQ",
        "colab": {
          "base_uri": "https://localhost:8080/"
        },
        "outputId": "9e9762ff-1241-4801-aec9-2736e1fc4f6a"
      },
      "source": [
        "cd ballpark_indoor_outdoor"
      ],
      "execution_count": 4,
      "outputs": [
        {
          "output_type": "stream",
          "text": [
            "/content/ballpark_indoor_outdoor\n"
          ],
          "name": "stdout"
        }
      ]
    },
    {
      "cell_type": "code",
      "metadata": {
        "id": "8fUNevRbIu_3"
      },
      "source": [
        "!python BinaryClassifier.py --train_root_path=\"/content/drive/My Drive/Colab Notebooks/affordances/datasets/binary_train_indoor_outdoor\" --val_root_path=\"/content/drive/My Drive/Colab Notebooks/affordances/datasets/binary_val_indoor_outdoor\" --epochs=3 --output_path=\"/content/drive/My Drive/Colab Notebooks/affordances/experiments/ballpark/binary_class\""
      ],
      "execution_count": null,
      "outputs": []
    },
    {
      "cell_type": "code",
      "metadata": {
        "id": "TtStCWk6H_n4"
      },
      "source": [
        "!python ballpark.py --cls_method -cf=\"Contraints_scene_loose.txt\" --train_root_path=\"/content/drive/My Drive/Colab Notebooks/affordances/datasets/scene_google\" --val_root_path=\"/content/drive/My Drive/Colab Notebooks/affordances/datasets/indoor_outdoor_imagenet_validation\" --output_path=\"/content/drive/My Drive/Colab Notebooks/affordances/experiments/ballpark/ballpark_classification_loose1\""
      ],
      "execution_count": null,
      "outputs": []
    },
    {
      "cell_type": "markdown",
      "metadata": {
        "id": "BV9EJoFbChBH"
      },
      "source": [
        "Indoor Outdoor - my dataset"
      ]
    },
    {
      "cell_type": "code",
      "metadata": {
        "id": "ljQKt-3DCkQm"
      },
      "source": [
        "!python ballpark.py -cf=\"Contraints_scene_tight.txt\" --train_root_path=\"/content/drive/My Drive/Colab Notebooks/affordances/datasets/scene_google\" --val_root_path=\"/content/drive/My Drive/Colab Notebooks/affordances/datasets/indoor_outdoor_imagenet_validation\" --output_path=\"/content/drive/My Drive/Colab Notebooks/affordances/experiments/ballpark/indoor_outdoor_my_dataset/regression_tight\""
      ],
      "execution_count": null,
      "outputs": []
    },
    {
      "cell_type": "code",
      "metadata": {
        "id": "X0VN4v2RE2UW"
      },
      "source": [
        "!python ballpark.py --cls_method -cf=\"Contraints_scene_tight.txt\" --train_root_path=\"/content/drive/My Drive/Colab Notebooks/affordances/datasets/scene_google\" --val_root_path=\"/content/drive/My Drive/Colab Notebooks/affordances/datasets/indoor_outdoor_imagenet_validation\" --output_path=\"/content/drive/My Drive/Colab Notebooks/affordances/experiments/ballpark/indoor_outdoor_my_dataset/classification_tight\""
      ],
      "execution_count": null,
      "outputs": []
    },
    {
      "cell_type": "markdown",
      "metadata": {
        "id": "140IFQwoopxy"
      },
      "source": [
        "ade20k io"
      ]
    },
    {
      "cell_type": "markdown",
      "metadata": {
        "id": "2eX4aelhk2KM"
      },
      "source": [
        "ballpark"
      ]
    },
    {
      "cell_type": "code",
      "metadata": {
        "id": "i4LdD4OyosxK"
      },
      "source": [
        "!python ballpark.py -cf=\"constraints/indoor_outdoor_ade2k_constraints.txt\" --train_root_path=\"/content/drive/My Drive/Colab Notebooks/affordances/datasets/indoor_outdoor_ade20k/train_scenes_ade20K\" --val_root_path=\"/content/drive/My Drive/Colab Notebooks/affordances/datasets/indoor_outdoor_ade20k/val_binary_ade20K\" --output_path=\"/content/drive/My Drive/Colab Notebooks/affordances/experiments/ballpark/indoor_outdoor_ade20k/regression_my_constraints\""
      ],
      "execution_count": null,
      "outputs": []
    },
    {
      "cell_type": "markdown",
      "metadata": {
        "id": "QTGW0emgk36x"
      },
      "source": [
        "svm"
      ]
    },
    {
      "cell_type": "code",
      "metadata": {
        "id": "bolJ-WAwk5AL"
      },
      "source": [
        "!python svm_classifier.py --max_files=200 --train_root_path=\"/content/drive/My Drive/Colab Notebooks/affordances/datasets/indoor_outdoor_ade20k/train_binary_ade20K\" --val_root_path=\"/content/drive/My Drive/Colab Notebooks/affordances/datasets/indoor_outdoor_ade20k/val_binary_ade20K\" --output_path=\"/content/drive/My Drive/Colab Notebooks/affordances/experiments/ballpark/indoor_outdoor_ade20k/svm_200_clean\""
      ],
      "execution_count": null,
      "outputs": []
    },
    {
      "cell_type": "code",
      "metadata": {
        "id": "f7A1kZECrc8d"
      },
      "source": [
        "!python svm_classifier.py --train_root_path=\"/content/drive/My Drive/Colab Notebooks/affordances/datasets/indoor_outdoor_ade20k/binary_unclean_train_data\" --val_root_path=\"/content/drive/My Drive/Colab Notebooks/affordances/datasets/indoor_outdoor_ade20k/val_binary_ade20K\" --output_path=\"/content/drive/My Drive/Colab Notebooks/affordances/experiments/ballpark/indoor_outdoor_ade20k/svm_unclean\""
      ],
      "execution_count": null,
      "outputs": []
    },
    {
      "cell_type": "code",
      "metadata": {
        "id": "pcEfzRBJrgH0"
      },
      "source": [
        ""
      ],
      "execution_count": null,
      "outputs": []
    },
    {
      "cell_type": "markdown",
      "metadata": {
        "id": "dkIcPnw16-8q"
      },
      "source": [
        "swim"
      ]
    },
    {
      "cell_type": "markdown",
      "metadata": {
        "id": "CnbxIbncLi7i"
      },
      "source": [
        "ballpark"
      ]
    },
    {
      "cell_type": "code",
      "metadata": {
        "id": "6FRsmlfKpIag"
      },
      "source": [
        "!python ballpark.py -cf=\"constraints/swim_ade20k_true_constraints_eps_03.txt\" --train_root_path=\"/content/drive/My Drive/Colab Notebooks/affordances/datasets/swim_ade20k/train\" --val_root_path=\"/content/drive/My Drive/Colab Notebooks/affordances/datasets/swim_ade20k/test_binary\" --output_path=\"/content/drive/My Drive/Colab Notebooks/affordances/experiments/ballpark/swim_ade20k/regression_true_constraints\""
      ],
      "execution_count": null,
      "outputs": []
    },
    {
      "cell_type": "code",
      "metadata": {
        "id": "DJsiqBB35Lz_"
      },
      "source": [
        "!python ballpark.py -cf=\"constraints/swim_ade20k_true_constraints_eps_03.txt\" --train_root_path=\"/content/drive/My Drive/Colab Notebooks/affordances/datasets/swim_ade20k/train\" --val_root_path=\"/content/drive/My Drive/Colab Notebooks/affordances/datasets/swim_ade20k/test_binary\" --output_path=\"/content/drive/My Drive/Colab Notebooks/affordances/experiments/ballpark/swim_ade20k/regression_true_constraints_tighter\""
      ],
      "execution_count": null,
      "outputs": []
    },
    {
      "cell_type": "markdown",
      "metadata": {
        "id": "1s4fJg8NLk7p"
      },
      "source": [
        "svm"
      ]
    },
    {
      "cell_type": "code",
      "metadata": {
        "id": "mWcaiak_LmHq"
      },
      "source": [
        "!python svm_classifier.py --max_files=200 --train_root_path=\"/content/drive/My Drive/Colab Notebooks/affordances/datasets/swim_ade20k/train_binary\" --val_root_path=\"/content/drive/My Drive/Colab Notebooks/affordances/datasets/swim_ade20k/test_binary\" --output_path=\"/content/drive/My Drive/Colab Notebooks/affordances/experiments/ballpark/swim_ade20k/svm_clean_200\""
      ],
      "execution_count": null,
      "outputs": []
    },
    {
      "cell_type": "code",
      "metadata": {
        "id": "fa7CPZF5YyeQ"
      },
      "source": [
        "!python svm_classifier.py --train_root_path=\"/content/drive/My Drive/Colab Notebooks/affordances/datasets/swim_ade20k/binary_unclean_train_data\" --val_root_path=\"/content/drive/My Drive/Colab Notebooks/affordances/datasets/swim_ade20k/test_binary\" --output_path=\"/content/drive/My Drive/Colab Notebooks/affordances/experiments/ballpark/swim_ade20k/svm_unclean\""
      ],
      "execution_count": null,
      "outputs": []
    },
    {
      "cell_type": "markdown",
      "metadata": {
        "id": "9psZ5yuJsZhB"
      },
      "source": [
        "Stabbing experiment"
      ]
    },
    {
      "cell_type": "code",
      "metadata": {
        "id": "QMGvzjtMsbuB"
      },
      "source": [
        "!python ballpark.py -cf=\"constraints/stab_constraints.txt\" --train_root_path=\"/content/drive/My Drive/Colab Notebooks/affordances/datasets/stab_google\" --val_root_path=\"/content/drive/My Drive/Colab Notebooks/affordances/datasets/stab_ballpark_binary_validation\" --output_path=\"/content/drive/My Drive/Colab Notebooks/affordances/experiments/ballpark/stab_ballpark_regression_fc2\""
      ],
      "execution_count": null,
      "outputs": []
    },
    {
      "cell_type": "markdown",
      "metadata": {
        "id": "k_N4qbg0nt-e"
      },
      "source": [
        "Exploration"
      ]
    },
    {
      "cell_type": "code",
      "metadata": {
        "id": "uC23BhDfWSaf"
      },
      "source": [
        "!python ballpark.py -cf=\"constraints/exploration2_dine_outside_full.txt\" --train_root_path=\"/content/drive/My Drive/Colab Notebooks/affordances/datasets/ade20k_ballpark_exploration\" --val_root_path=\"/content/drive/My Drive/Colab Notebooks/affordances/datasets/dine/validation_binary\" --output_path=\"/content/drive/My Drive/Colab Notebooks/affordances/experiments/ballpark/regression_dine_out_fc2\""
      ],
      "execution_count": null,
      "outputs": []
    },
    {
      "cell_type": "code",
      "metadata": {
        "id": "L07eNvTMWEa4"
      },
      "source": [
        "!python ballpark.py -cf=\"constraints/exploration2_dine_outside_full.txt\" --train_root_path=\"/content/drive/My Drive/Colab Notebooks/affordances/datasets/ade20k_ballpark_exploration\" --val_root_path=\"/content/drive/My Drive/Colab Notebooks/affordances/datasets/dine/validation_binary\" --output_path=\"/content/drive/My Drive/Colab Notebooks/affordances/experiments/ballpark/regression_dine_out_fc2\""
      ],
      "execution_count": null,
      "outputs": []
    }
  ]
}