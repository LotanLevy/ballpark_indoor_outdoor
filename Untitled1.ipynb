{
  "nbformat": 4,
  "nbformat_minor": 0,
  "metadata": {
    "colab": {
      "name": "Untitled1.ipynb",
      "provenance": [],
      "authorship_tag": "ABX9TyPmpQOvOkMi59APpsBB6oUk",
      "include_colab_link": true
    },
    "kernelspec": {
      "name": "python3",
      "display_name": "Python 3"
    },
    "accelerator": "GPU"
  },
  "cells": [
    {
      "cell_type": "markdown",
      "metadata": {
        "id": "view-in-github",
        "colab_type": "text"
      },
      "source": [
        "<a href=\"https://colab.research.google.com/github/LotanLevy/ballpark_indoor_outdoor/blob/master/Untitled1.ipynb\" target=\"_parent\"><img src=\"https://colab.research.google.com/assets/colab-badge.svg\" alt=\"Open In Colab\"/></a>"
      ]
    },
    {
      "cell_type": "code",
      "metadata": {
        "id": "NDz3RO_eH4VB",
        "outputId": "803df86b-7384-4ca3-df81-3d3663eb9723",
        "colab": {
          "base_uri": "https://localhost:8080/"
        }
      },
      "source": [
        "pip install tensorflow-gpu==2.3.0"
      ],
      "execution_count": 1,
      "outputs": [
        {
          "output_type": "stream",
          "text": [
            "Successfully installed tensorflow-gpu-2.3.0\n"
          ],
          "name": "stdout"
        }
      ]
    },
    {
      "cell_type": "code",
      "metadata": {
        "id": "f1lpkrLMH6Rg",
        "colab": {
          "base_uri": "https://localhost:8080/"
        },
        "outputId": "d80fd414-f955-4b5d-9f05-fa0a2ac54c81"
      },
      "source": [
        "from google.colab import drive\n",
        "drive.mount('/content/drive')"
      ],
      "execution_count": 2,
      "outputs": [
        {
          "output_type": "stream",
          "text": [
            "Mounted at /content/drive\n"
          ],
          "name": "stdout"
        }
      ]
    },
    {
      "cell_type": "code",
      "metadata": {
        "id": "fL-xmtPdH7w5",
        "colab": {
          "base_uri": "https://localhost:8080/"
        },
        "outputId": "cac50147-76f7-49eb-a3bf-fab3549dd8bd"
      },
      "source": [
        "!git clone https://github.com/LotanLevy/ballpark_indoor_outdoor"
      ],
      "execution_count": 3,
      "outputs": [
        {
          "output_type": "stream",
          "text": [
            "Cloning into 'ballpark_indoor_outdoor'...\n",
            "remote: Enumerating objects: 131, done.\u001b[K\n",
            "remote: Counting objects: 100% (131/131), done.\u001b[K\n",
            "remote: Compressing objects: 100% (95/95), done.\u001b[K\n",
            "remote: Total 131 (delta 72), reused 90 (delta 34), pack-reused 0\u001b[K\n",
            "Receiving objects: 100% (131/131), 36.80 KiB | 598.00 KiB/s, done.\n",
            "Resolving deltas: 100% (72/72), done.\n"
          ],
          "name": "stdout"
        }
      ]
    },
    {
      "cell_type": "code",
      "metadata": {
        "id": "BHkbbs_pS6pH",
        "colab": {
          "base_uri": "https://localhost:8080/"
        },
        "outputId": "39affd9e-1dab-4310-d1c0-47cb98e2a62f"
      },
      "source": [
        "!git pull"
      ],
      "execution_count": 11,
      "outputs": [
        {
          "output_type": "stream",
          "text": [
            "remote: Enumerating objects: 5, done.\u001b[K\n",
            "remote: Counting objects:  20% (1/5)\u001b[K\rremote: Counting objects:  40% (2/5)\u001b[K\rremote: Counting objects:  60% (3/5)\u001b[K\rremote: Counting objects:  80% (4/5)\u001b[K\rremote: Counting objects: 100% (5/5)\u001b[K\rremote: Counting objects: 100% (5/5), done.\u001b[K\n",
            "remote: Compressing objects: 100% (1/1)\u001b[K\rremote: Compressing objects: 100% (1/1), done.\u001b[K\n",
            "remote: Total 3 (delta 2), reused 3 (delta 2), pack-reused 0\u001b[K\n",
            "Unpacking objects:  33% (1/3)   \rUnpacking objects:  66% (2/3)   \rUnpacking objects: 100% (3/3)   \rUnpacking objects: 100% (3/3), done.\n",
            "From https://github.com/LotanLevy/ballpark_indoor_outdoor\n",
            "   0589668..cd4f600  master     -> origin/master\n",
            "Updating 0589668..cd4f600\n",
            "Fast-forward\n",
            " stab_constraints.txt | 37 \u001b[32m+++++++++++++++++++++\u001b[m\u001b[31m----------------\u001b[m\n",
            " 1 file changed, 21 insertions(+), 16 deletions(-)\n"
          ],
          "name": "stdout"
        }
      ]
    },
    {
      "cell_type": "code",
      "metadata": {
        "id": "ZcPY-SPcH-rQ",
        "colab": {
          "base_uri": "https://localhost:8080/"
        },
        "outputId": "8c9dff06-d99f-4671-ae81-0cbefc35eea1"
      },
      "source": [
        "cd ballpark_indoor_outdoor"
      ],
      "execution_count": 5,
      "outputs": [
        {
          "output_type": "stream",
          "text": [
            "/content/ballpark_indoor_outdoor\n"
          ],
          "name": "stdout"
        }
      ]
    },
    {
      "cell_type": "code",
      "metadata": {
        "id": "8fUNevRbIu_3"
      },
      "source": [
        "!python BinaryClassifier.py --train_root_path=\"/content/drive/My Drive/Colab Notebooks/affordances/datasets/binary_train_indoor_outdoor\" --val_root_path=\"/content/drive/My Drive/Colab Notebooks/affordances/datasets/binary_val_indoor_outdoor\" --epochs=3 --output_path=\"/content/drive/My Drive/Colab Notebooks/affordances/experiments/ballpark/binary_class\""
      ],
      "execution_count": null,
      "outputs": []
    },
    {
      "cell_type": "code",
      "metadata": {
        "id": "TtStCWk6H_n4"
      },
      "source": [
        "!python ballpark.py --cls_method -cf=\"Contraints_scene_loose.txt\" --train_root_path=\"/content/drive/My Drive/Colab Notebooks/affordances/datasets/scene_google\" --val_root_path=\"/content/drive/My Drive/Colab Notebooks/affordances/datasets/indoor_outdoor_imagenet_validation\" --output_path=\"/content/drive/My Drive/Colab Notebooks/affordances/experiments/ballpark/ballpark_classification_loose1\""
      ],
      "execution_count": null,
      "outputs": []
    },
    {
      "cell_type": "markdown",
      "metadata": {
        "id": "9psZ5yuJsZhB"
      },
      "source": [
        "Stabbing experiment"
      ]
    },
    {
      "cell_type": "code",
      "metadata": {
        "id": "QMGvzjtMsbuB",
        "outputId": "f3ec0b12-f374-49ba-af3e-b4a9232b222a",
        "colab": {
          "base_uri": "https://localhost:8080/"
        }
      },
      "source": [
        "!python ballpark.py --cls_method -cf=\"stab_constraints.txt\" --train_root_path=\"/content/drive/My Drive/Colab Notebooks/affordances/datasets/stab_google\" --val_root_path=\"/content/drive/My Drive/Colab Notebooks/affordances/datasets/stab_ballpark_binary_validation\" --output_path=\"/content/drive/My Drive/Colab Notebooks/affordances/experiments/ballpark/stab_ballpark_classification\""
      ],
      "execution_count": null,
      "outputs": [
        {
          "output_type": "stream",
          "text": [
            "2020-11-21 17:22:55.755702: I tensorflow/stream_executor/platform/default/dso_loader.cc:48] Successfully opened dynamic library libcudart.so.10.1\n",
            "Reads constraints file\n",
            "Bag \n",
            "['Bag ']\n",
            "Boots \n",
            "['Boots ']\n",
            "Bottle \n",
            "['Bottle ']\n",
            "Box \n",
            "['Box ']\n",
            "Cup \n",
            "['Cup ']\n",
            "Glasses \n",
            "['Glasses ']\n",
            "Lamp \n",
            "['Lamp ']\n",
            "Pot \n",
            "['Pot ']\n",
            "Socks \n",
            "['Socks ']\n",
            "Fishing_rod \n",
            "['Fishing_rod ']\n",
            "Wheel \n",
            "['Wheel ']\n",
            "fork \n",
            "['fork ']\n",
            "Knife \n",
            "['Knife ']\n",
            "Pencil \n",
            "['Pencil ']\n",
            "Scissors \n",
            "['Scissors ']\n",
            "Screwdriver \n",
            "['Screwdriver ']\n",
            "Sword \n",
            "['Sword ']\n",
            "Sword_fish \n",
            "['Sword_fish ']\n",
            "Tweezers \n",
            "['Tweezers ']\n",
            "Umbrella \n",
            "['Umbrella ']\n",
            "Tweezers - Wheel \n",
            "['Tweezers ', ' Wheel ']\n",
            "Tweezers - Bag \n",
            "['Tweezers ', ' Bag ']\n",
            "Tweezers - Boots \n",
            "['Tweezers ', ' Boots ']\n",
            "Tweezers - Pot \n",
            "['Tweezers ', ' Pot ']\n",
            "Tweezers - Socks \n",
            "['Tweezers ', ' Socks ']\n",
            "Pencil - Wheel \n",
            "['Pencil ', ' Wheel ']\n",
            "Pencil - Bag \n",
            "['Pencil ', ' Bag ']\n",
            "Pencil - Boots \n",
            "['Pencil ', ' Boots ']\n",
            "Pencil - Pot \n",
            "['Pencil ', ' Pot ']\n",
            "Pencil - Socks \n",
            "['Pencil ', ' Socks ']\n",
            "fork - Wheel \n",
            "['fork ', ' Wheel ']\n",
            "fork - Bag \n",
            "['fork ', ' Bag ']\n",
            "fork - Boots \n",
            "['fork ', ' Boots ']\n",
            "fork - Pot \n",
            "['fork ', ' Pot ']\n",
            "fork - Socks \n",
            "['fork ', ' Socks ']\n",
            "Screwdriver - Bag \n",
            "['Screwdriver ', ' Bag ']\n",
            "Screwdriver - Boots \n",
            "['Screwdriver ', ' Boots ']\n",
            "Screwdriver - Bottle \n",
            "['Screwdriver ', ' Bottle ']\n",
            "Screwdriver - Socks \n",
            "['Screwdriver ', ' Socks ']\n",
            "Screwdriver - Wheel \n",
            "['Screwdriver ', ' Wheel ']\n",
            "Screwdriver - Umbrella \n",
            "['Screwdriver ', ' Umbrella ']\n",
            "Screwdriver - Tweezers \n",
            "['Screwdriver ', ' Tweezers ']\n",
            "Screwdriver - Pot \n",
            "['Screwdriver ', ' Pot ']\n",
            "Sword - Bag \n",
            "['Sword ', ' Bag ']\n",
            "Sword - Boots \n",
            "['Sword ', ' Boots ']\n",
            "Sword - Bottle \n",
            "['Sword ', ' Bottle ']\n",
            "Sword - Socks \n",
            "['Sword ', ' Socks ']\n",
            "Sword - Wheel \n",
            "['Sword ', ' Wheel ']\n",
            "Sword - Umbrella \n",
            "['Sword ', ' Umbrella ']\n",
            "Sword - Tweezers \n",
            "['Sword ', ' Tweezers ']\n",
            "Sword - Pot \n",
            "['Sword ', ' Pot ']\n",
            "Knife - Bag \n",
            "['Knife ', ' Bag ']\n",
            "Knife - Boots \n",
            "['Knife ', ' Boots ']\n",
            "Knife - Bottle \n",
            "['Knife ', ' Bottle ']\n",
            "Knife - Socks \n",
            "['Knife ', ' Socks ']\n",
            "Knife - Wheel \n",
            "['Knife ', ' Wheel ']\n",
            "Knife - Umbrella \n",
            "['Knife ', ' Umbrella ']\n",
            "Knife - Tweezers \n",
            "['Knife ', ' Tweezers ']\n",
            "Knife - Pot \n",
            "['Knife ', ' Pot ']\n",
            "Initialize dataloader\n",
            "Found 7630 images belonging to 20 classes.\n",
            "Found 0 images belonging to 20 classes.\n",
            "Found 461 images belonging to 2 classes.\n",
            "Found 0 images belonging to 2 classes.\n",
            "Split data into bags\n",
            "2020-11-21 17:22:58.264190: I tensorflow/stream_executor/platform/default/dso_loader.cc:48] Successfully opened dynamic library libcuda.so.1\n",
            "2020-11-21 17:22:58.286223: I tensorflow/stream_executor/cuda/cuda_gpu_executor.cc:982] successful NUMA node read from SysFS had negative value (-1), but there must be at least one NUMA node, so returning NUMA node zero\n",
            "2020-11-21 17:22:58.286814: I tensorflow/core/common_runtime/gpu/gpu_device.cc:1716] Found device 0 with properties: \n",
            "pciBusID: 0000:00:04.0 name: Tesla P100-PCIE-16GB computeCapability: 6.0\n",
            "coreClock: 1.3285GHz coreCount: 56 deviceMemorySize: 15.90GiB deviceMemoryBandwidth: 681.88GiB/s\n",
            "2020-11-21 17:22:58.286865: I tensorflow/stream_executor/platform/default/dso_loader.cc:48] Successfully opened dynamic library libcudart.so.10.1\n",
            "2020-11-21 17:22:58.288923: I tensorflow/stream_executor/platform/default/dso_loader.cc:48] Successfully opened dynamic library libcublas.so.10\n",
            "2020-11-21 17:22:58.295055: I tensorflow/stream_executor/platform/default/dso_loader.cc:48] Successfully opened dynamic library libcufft.so.10\n",
            "2020-11-21 17:22:58.295517: I tensorflow/stream_executor/platform/default/dso_loader.cc:48] Successfully opened dynamic library libcurand.so.10\n",
            "2020-11-21 17:22:58.297524: I tensorflow/stream_executor/platform/default/dso_loader.cc:48] Successfully opened dynamic library libcusolver.so.10\n",
            "2020-11-21 17:22:58.298718: I tensorflow/stream_executor/platform/default/dso_loader.cc:48] Successfully opened dynamic library libcusparse.so.10\n",
            "2020-11-21 17:22:58.303303: I tensorflow/stream_executor/platform/default/dso_loader.cc:48] Successfully opened dynamic library libcudnn.so.7\n",
            "2020-11-21 17:22:58.303468: I tensorflow/stream_executor/cuda/cuda_gpu_executor.cc:982] successful NUMA node read from SysFS had negative value (-1), but there must be at least one NUMA node, so returning NUMA node zero\n",
            "2020-11-21 17:22:58.304120: I tensorflow/stream_executor/cuda/cuda_gpu_executor.cc:982] successful NUMA node read from SysFS had negative value (-1), but there must be at least one NUMA node, so returning NUMA node zero\n",
            "2020-11-21 17:22:58.304705: I tensorflow/core/common_runtime/gpu/gpu_device.cc:1858] Adding visible gpu devices: 0\n",
            "2020-11-21 17:22:58.305058: I tensorflow/core/platform/cpu_feature_guard.cc:142] This TensorFlow binary is optimized with oneAPI Deep Neural Network Library (oneDNN)to use the following CPU instructions in performance-critical operations:  AVX2 AVX512F FMA\n",
            "To enable them in other operations, rebuild TensorFlow with the appropriate compiler flags.\n",
            "2020-11-21 17:22:58.310518: I tensorflow/core/platform/profile_utils/cpu_utils.cc:104] CPU Frequency: 2000170000 Hz\n",
            "2020-11-21 17:22:58.310702: I tensorflow/compiler/xla/service/service.cc:168] XLA service 0x30daf40 initialized for platform Host (this does not guarantee that XLA will be used). Devices:\n",
            "2020-11-21 17:22:58.310729: I tensorflow/compiler/xla/service/service.cc:176]   StreamExecutor device (0): Host, Default Version\n",
            "2020-11-21 17:22:58.400830: I tensorflow/stream_executor/cuda/cuda_gpu_executor.cc:982] successful NUMA node read from SysFS had negative value (-1), but there must be at least one NUMA node, so returning NUMA node zero\n",
            "2020-11-21 17:22:58.402048: I tensorflow/compiler/xla/service/service.cc:168] XLA service 0x30db100 initialized for platform CUDA (this does not guarantee that XLA will be used). Devices:\n",
            "2020-11-21 17:22:58.402157: I tensorflow/compiler/xla/service/service.cc:176]   StreamExecutor device (0): Tesla P100-PCIE-16GB, Compute Capability 6.0\n",
            "2020-11-21 17:22:58.402543: I tensorflow/stream_executor/cuda/cuda_gpu_executor.cc:982] successful NUMA node read from SysFS had negative value (-1), but there must be at least one NUMA node, so returning NUMA node zero\n",
            "2020-11-21 17:22:58.403404: I tensorflow/core/common_runtime/gpu/gpu_device.cc:1716] Found device 0 with properties: \n",
            "pciBusID: 0000:00:04.0 name: Tesla P100-PCIE-16GB computeCapability: 6.0\n",
            "coreClock: 1.3285GHz coreCount: 56 deviceMemorySize: 15.90GiB deviceMemoryBandwidth: 681.88GiB/s\n",
            "2020-11-21 17:22:58.404257: I tensorflow/stream_executor/platform/default/dso_loader.cc:48] Successfully opened dynamic library libcudart.so.10.1\n",
            "2020-11-21 17:22:58.404332: I tensorflow/stream_executor/platform/default/dso_loader.cc:48] Successfully opened dynamic library libcublas.so.10\n",
            "2020-11-21 17:22:58.404365: I tensorflow/stream_executor/platform/default/dso_loader.cc:48] Successfully opened dynamic library libcufft.so.10\n",
            "2020-11-21 17:22:58.404390: I tensorflow/stream_executor/platform/default/dso_loader.cc:48] Successfully opened dynamic library libcurand.so.10\n",
            "2020-11-21 17:22:58.404414: I tensorflow/stream_executor/platform/default/dso_loader.cc:48] Successfully opened dynamic library libcusolver.so.10\n",
            "2020-11-21 17:22:58.404464: I tensorflow/stream_executor/platform/default/dso_loader.cc:48] Successfully opened dynamic library libcusparse.so.10\n",
            "2020-11-21 17:22:58.404516: I tensorflow/stream_executor/platform/default/dso_loader.cc:48] Successfully opened dynamic library libcudnn.so.7\n",
            "2020-11-21 17:22:58.404681: I tensorflow/stream_executor/cuda/cuda_gpu_executor.cc:982] successful NUMA node read from SysFS had negative value (-1), but there must be at least one NUMA node, so returning NUMA node zero\n",
            "2020-11-21 17:22:58.406298: I tensorflow/stream_executor/cuda/cuda_gpu_executor.cc:982] successful NUMA node read from SysFS had negative value (-1), but there must be at least one NUMA node, so returning NUMA node zero\n",
            "2020-11-21 17:22:58.406856: I tensorflow/core/common_runtime/gpu/gpu_device.cc:1858] Adding visible gpu devices: 0\n",
            "2020-11-21 17:22:58.406916: I tensorflow/stream_executor/platform/default/dso_loader.cc:48] Successfully opened dynamic library libcudart.so.10.1\n",
            "2020-11-21 17:22:59.119037: I tensorflow/core/common_runtime/gpu/gpu_device.cc:1257] Device interconnect StreamExecutor with strength 1 edge matrix:\n",
            "2020-11-21 17:22:59.119100: I tensorflow/core/common_runtime/gpu/gpu_device.cc:1263]      0 \n",
            "2020-11-21 17:22:59.119113: I tensorflow/core/common_runtime/gpu/gpu_device.cc:1276] 0:   N \n",
            "2020-11-21 17:22:59.119331: I tensorflow/stream_executor/cuda/cuda_gpu_executor.cc:982] successful NUMA node read from SysFS had negative value (-1), but there must be at least one NUMA node, so returning NUMA node zero\n",
            "2020-11-21 17:22:59.120042: I tensorflow/stream_executor/cuda/cuda_gpu_executor.cc:982] successful NUMA node read from SysFS had negative value (-1), but there must be at least one NUMA node, so returning NUMA node zero\n",
            "2020-11-21 17:22:59.120589: W tensorflow/core/common_runtime/gpu/gpu_bfc_allocator.cc:39] Overriding allow_growth setting because the TF_FORCE_GPU_ALLOW_GROWTH environment variable is set. Original config value was 0.\n",
            "2020-11-21 17:22:59.120636: I tensorflow/core/common_runtime/gpu/gpu_device.cc:1402] Created TensorFlow device (/job:localhost/replica:0/task:0/device:GPU:0 with 14951 MB memory) -> physical GPU (device: 0, name: Tesla P100-PCIE-16GB, pci bus id: 0000:00:04.0, compute capability: 6.0)\n",
            "Bags names dict_keys(['Bag', 'Boots', 'Bottle', 'Box', 'Cup', 'Fishing_rod', 'Glasses', 'Knife', 'Lamp', 'Pencil', 'Pot', 'Scissors', 'Screwdriver', 'Socks', 'Sword', 'Sword_fish', 'Tweezers', 'Umbrella', 'Wheel', 'fork'])\n",
            "Bags names dict_keys(['0', '1'])\n",
            "Initialize ballpark model\n",
            "Initialize ballpark parameters\n",
            "Bags names dict_keys(['Bag', 'Boots', 'Bottle', 'Box', 'Cup', 'Fishing_rod', 'Glasses', 'Knife', 'Lamp', 'Pencil', 'Pot', 'Scissors', 'Screwdriver', 'Socks', 'Sword', 'Sword_fish', 'Tweezers', 'Umbrella', 'Wheel', 'fork'])\n",
            "Constraints diff_lowers [(('Tweezers', 'Wheel'), 0.1), (('Tweezers', 'Bag'), 0.1), (('Tweezers', 'Boots'), 0.1), (('Tweezers', 'Pot'), 0.1), (('Tweezers', 'Socks'), 0.1), (('Pencil', 'Wheel'), 0.1), (('Pencil', 'Bag'), 0.1), (('Pencil', 'Boots'), 0.1), (('Pencil', 'Pot'), 0.1), (('Pencil', 'Socks'), 0.1), (('fork', 'Wheel'), 0.1), (('fork', 'Bag'), 0.1), (('fork', 'Boots'), 0.1), (('fork', 'Pot'), 0.1), (('fork', 'Socks'), 0.1), (('Screwdriver', 'Bag'), 0.3), (('Screwdriver', 'Boots'), 0.3), (('Screwdriver', 'Bottle'), 0.1), (('Screwdriver', 'Socks'), 0.3), (('Screwdriver', 'Wheel'), 0.3), (('Screwdriver', 'Umbrella'), 0.1), (('Screwdriver', 'Tweezers'), 0.1), (('Screwdriver', 'Pot'), 0.3), (('Sword', 'Bag'), 0.3), (('Sword', 'Boots'), 0.3), (('Sword', 'Bottle'), 0.1), (('Sword', 'Socks'), 0.3), (('Sword', 'Wheel'), 0.3), (('Sword', 'Umbrella'), 0.1), (('Sword', 'Tweezers'), 0.1), (('Sword', 'Pot'), 0.3), (('Knife', 'Bag'), 0.3), (('Knife', 'Boots'), 0.3), (('Knife', 'Bottle'), 0.1), (('Knife', 'Socks'), 0.3), (('Knife', 'Wheel'), 0.3), (('Knife', 'Umbrella'), 0.1), (('Knife', 'Tweezers'), 0.1), (('Knife', 'Pot'), 0.3)]\n",
            "diff_uppers []\n",
            "lowers {'Fishing_rod': 0.6, 'fork': 0.6, 'Knife': 0.8, 'Pencil': 0.7, 'Scissors': 0.7, 'Screwdriver': 0.8, 'Sword': 0.8, 'Sword_fish': 0.6, 'Tweezers': 0.6, 'Umbrella': 0.2}\n",
            "uppers {'Bag': 0.2, 'Boots': 0.2, 'Bottle': 0.3, 'Box': 0.2, 'Cup': 0.3, 'Glasses': 0.4, 'Lamp': 0.4, 'Pot': 0.3, 'Socks': 0.2, 'Wheel': 0.3}\n",
            "\n",
            "constraints are legal - True\n",
            "w size 4096\n",
            "y size 7630\n",
            "Start ballpark learning\n",
            "[('Tweezers', 'Wheel'), ('Tweezers', 'Bag'), ('Tweezers', 'Boots'), ('Tweezers', 'Pot'), ('Tweezers', 'Socks'), ('Pencil', 'Wheel'), ('Pencil', 'Bag'), ('Pencil', 'Boots'), ('Pencil', 'Pot'), ('Pencil', 'Socks'), ('fork', 'Wheel'), ('fork', 'Bag'), ('fork', 'Boots'), ('fork', 'Pot'), ('fork', 'Socks'), ('Screwdriver', 'Bag'), ('Screwdriver', 'Boots'), ('Screwdriver', 'Bottle'), ('Screwdriver', 'Socks'), ('Screwdriver', 'Wheel'), ('Screwdriver', 'Umbrella'), ('Screwdriver', 'Tweezers'), ('Screwdriver', 'Pot'), ('Sword', 'Bag'), ('Sword', 'Boots'), ('Sword', 'Bottle'), ('Sword', 'Socks'), ('Sword', 'Wheel'), ('Sword', 'Umbrella'), ('Sword', 'Tweezers'), ('Sword', 'Pot'), ('Knife', 'Bag'), ('Knife', 'Boots'), ('Knife', 'Bottle'), ('Knife', 'Socks'), ('Knife', 'Wheel'), ('Knife', 'Umbrella'), ('Knife', 'Tweezers'), ('Knife', 'Pot')]\n",
            "2020-11-21 17:23:31.287382: I tensorflow/stream_executor/platform/default/dso_loader.cc:48] Successfully opened dynamic library libcudnn.so.7\n",
            "2020-11-21 17:23:32.129336: I tensorflow/stream_executor/platform/default/dso_loader.cc:48] Successfully opened dynamic library libcublas.so.10\n",
            "2020-11-21 17:23:32.522075: W tensorflow/core/common_runtime/bfc_allocator.cc:246] Allocator (GPU_0_bfc) ran out of memory trying to allocate 2.15GiB with freed_by_count=0. The caller indicates that this is not a failure, but may mean that there could be performance gains if more memory were available.\n",
            "(4096,)\n",
            "[-0.40460677  1.21175612  0.35256593 ... -2.00170763  0.47041762\n",
            "  0.58136656]\n",
            "0.9940594926551986\n",
            "1: end of solve w_y iteration with distance 0.9940594926551986\n",
            "[-0.00706726  0.00443634 -0.00207134 ... -0.00440773  0.00134033\n",
            " -0.00195667]\n",
            "0.42468664981964294\n",
            "2: end of solve w_y iteration with distance 0.42468664981964294\n",
            "[-0.0061511   0.01626838  0.00046122 ... -0.00195048  0.00252531\n",
            "  0.00444757]\n",
            "0.19594151188726305\n",
            "3: end of solve w_y iteration with distance 0.19594151188726305\n",
            "[-0.00245628  0.01456255 -0.00021572 ... -0.00318393  0.0013505\n",
            " -0.00054898]\n",
            "0.1371736745829314\n",
            "4: end of solve w_y iteration with distance 0.1371736745829314\n",
            "[-0.0053739   0.01374328  0.00417131 ... -0.00449917  0.0013564\n",
            " -0.00161614]\n",
            "0.07310142366542252\n",
            "5: end of solve w_y iteration with distance 0.07310142366542252\n",
            "[-0.00570761  0.01546119  0.00401976 ... -0.00643224  0.00242549\n",
            " -0.00151069]\n",
            "0.046660411328281436\n",
            "6: end of solve w_y iteration with distance 0.046660411328281436\n",
            "[-0.00535332  0.01843455  0.00076566 ... -0.00533674  0.00245066\n",
            " -0.0016956 ]\n",
            "0.044720747524757805\n",
            "7: end of solve w_y iteration with distance 0.044720747524757805\n",
            "[-0.01125273  0.01677737 -0.0003455  ... -0.00998696  0.00330896\n",
            " -0.00064684]\n",
            "0.05288488338609031\n",
            "8: end of solve w_y iteration with distance 0.05288488338609031\n",
            "[-0.0081682   0.01763638  0.00460857 ... -0.01369146  0.00534853\n",
            " -0.00232072]\n",
            "0.02447099654662984\n",
            "9: end of solve w_y iteration with distance 0.02447099654662984\n",
            "[-0.00842409  0.01728858  0.00167377 ... -0.01539505  0.00542732\n",
            " -0.00410329]\n",
            "0.017644105717666416\n",
            "10: end of solve w_y iteration with distance 0.017644105717666416\n",
            "[-0.00844542  0.01726476  0.00137651 ... -0.01513124  0.00475015\n",
            " -0.00149393]\n",
            "0.029140659668710184\n",
            "11: end of solve w_y iteration with distance 0.029140659668710184\n",
            "[-0.0081519   0.01769023  0.00296229 ... -0.01359486  0.00496366\n",
            " -0.00424831]\n"
          ],
          "name": "stdout"
        }
      ]
    }
  ]
}