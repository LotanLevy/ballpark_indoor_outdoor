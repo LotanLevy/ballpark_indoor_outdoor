{
  "nbformat": 4,
  "nbformat_minor": 0,
  "metadata": {
    "colab": {
      "name": "Untitled1.ipynb",
      "provenance": [],
      "authorship_tag": "ABX9TyMBZsJKQNos2XoJB4p0R+U3",
      "include_colab_link": true
    },
    "kernelspec": {
      "name": "python3",
      "display_name": "Python 3"
    },
    "accelerator": "GPU"
  },
  "cells": [
    {
      "cell_type": "markdown",
      "metadata": {
        "id": "view-in-github",
        "colab_type": "text"
      },
      "source": [
        "<a href=\"https://colab.research.google.com/github/LotanLevy/ballpark_indoor_outdoor/blob/master/Untitled1.ipynb\" target=\"_parent\"><img src=\"https://colab.research.google.com/assets/colab-badge.svg\" alt=\"Open In Colab\"/></a>"
      ]
    },
    {
      "cell_type": "code",
      "metadata": {
        "id": "NDz3RO_eH4VB"
      },
      "source": [
        "pip install tensorflow-gpu==2.3.0"
      ],
      "execution_count": 5,
      "outputs": []
    },
    {
      "cell_type": "code",
      "metadata": {
        "id": "f1lpkrLMH6Rg",
        "colab": {
          "base_uri": "https://localhost:8080/"
        },
        "outputId": "d2303f9e-16ff-4f30-8d80-673d06385518"
      },
      "source": [
        "from google.colab import drive\n",
        "drive.mount('/content/drive')"
      ],
      "execution_count": 6,
      "outputs": [
        {
          "output_type": "stream",
          "text": [
            "Drive already mounted at /content/drive; to attempt to forcibly remount, call drive.mount(\"/content/drive\", force_remount=True).\n"
          ],
          "name": "stdout"
        }
      ]
    },
    {
      "cell_type": "code",
      "metadata": {
        "id": "fL-xmtPdH7w5",
        "colab": {
          "base_uri": "https://localhost:8080/"
        },
        "outputId": "7cad0654-a192-470b-da19-d27669aa91f1"
      },
      "source": [
        "!git clone https://github.com/LotanLevy/ballpark_indoor_outdoor"
      ],
      "execution_count": 8,
      "outputs": [
        {
          "output_type": "stream",
          "text": [
            "Cloning into 'ballpark_indoor_outdoor'...\n",
            "remote: Enumerating objects: 201, done.\u001b[K\n",
            "remote: Counting objects: 100% (201/201), done.\u001b[K\n",
            "remote: Compressing objects: 100% (147/147), done.\u001b[K\n",
            "remote: Total 201 (delta 112), reused 137 (delta 52), pack-reused 0\u001b[K\n",
            "Receiving objects: 100% (201/201), 52.04 KiB | 10.41 MiB/s, done.\n",
            "Resolving deltas: 100% (112/112), done.\n"
          ],
          "name": "stdout"
        }
      ]
    },
    {
      "cell_type": "code",
      "metadata": {
        "id": "BHkbbs_pS6pH",
        "colab": {
          "base_uri": "https://localhost:8080/"
        },
        "outputId": "ef315c7d-6bdf-4b55-b9ff-be7675e83562"
      },
      "source": [
        "!git pull"
      ],
      "execution_count": 11,
      "outputs": [
        {
          "output_type": "stream",
          "text": [
            "remote: Enumerating objects: 5, done.\u001b[K\n",
            "remote: Counting objects:  20% (1/5)\u001b[K\rremote: Counting objects:  40% (2/5)\u001b[K\rremote: Counting objects:  60% (3/5)\u001b[K\rremote: Counting objects:  80% (4/5)\u001b[K\rremote: Counting objects: 100% (5/5)\u001b[K\rremote: Counting objects: 100% (5/5), done.\u001b[K\n",
            "remote: Compressing objects: 100% (1/1)\u001b[K\rremote: Compressing objects: 100% (1/1), done.\u001b[K\n",
            "remote: Total 3 (delta 2), reused 3 (delta 2), pack-reused 0\u001b[K\n",
            "Unpacking objects:  33% (1/3)   \rUnpacking objects:  66% (2/3)   \rUnpacking objects: 100% (3/3)   \rUnpacking objects: 100% (3/3), done.\n",
            "From https://github.com/LotanLevy/ballpark_indoor_outdoor\n",
            "   1cf8688..f767376  master     -> origin/master\n",
            "Updating 1cf8688..f767376\n",
            "Fast-forward\n",
            " svm_classifier.py | 11 \u001b[32m+++++++\u001b[m\u001b[31m----\u001b[m\n",
            " 1 file changed, 7 insertions(+), 4 deletions(-)\n"
          ],
          "name": "stdout"
        }
      ]
    },
    {
      "cell_type": "code",
      "metadata": {
        "id": "ZcPY-SPcH-rQ",
        "colab": {
          "base_uri": "https://localhost:8080/"
        },
        "outputId": "769becd0-af75-4996-90ec-4b8c4d32b5e6"
      },
      "source": [
        "cd ballpark_indoor_outdoor"
      ],
      "execution_count": 9,
      "outputs": [
        {
          "output_type": "stream",
          "text": [
            "/content/ballpark_indoor_outdoor/ballpark_indoor_outdoor\n"
          ],
          "name": "stdout"
        }
      ]
    },
    {
      "cell_type": "code",
      "metadata": {
        "id": "8fUNevRbIu_3"
      },
      "source": [
        "!python BinaryClassifier.py --train_root_path=\"/content/drive/My Drive/Colab Notebooks/affordances/datasets/binary_train_indoor_outdoor\" --val_root_path=\"/content/drive/My Drive/Colab Notebooks/affordances/datasets/binary_val_indoor_outdoor\" --epochs=3 --output_path=\"/content/drive/My Drive/Colab Notebooks/affordances/experiments/ballpark/binary_class\""
      ],
      "execution_count": null,
      "outputs": []
    },
    {
      "cell_type": "code",
      "metadata": {
        "id": "TtStCWk6H_n4"
      },
      "source": [
        "!python ballpark.py --cls_method -cf=\"Contraints_scene_loose.txt\" --train_root_path=\"/content/drive/My Drive/Colab Notebooks/affordances/datasets/scene_google\" --val_root_path=\"/content/drive/My Drive/Colab Notebooks/affordances/datasets/indoor_outdoor_imagenet_validation\" --output_path=\"/content/drive/My Drive/Colab Notebooks/affordances/experiments/ballpark/ballpark_classification_loose1\""
      ],
      "execution_count": null,
      "outputs": []
    },
    {
      "cell_type": "markdown",
      "metadata": {
        "id": "BV9EJoFbChBH"
      },
      "source": [
        "Indoor Outdoor - my dataset"
      ]
    },
    {
      "cell_type": "code",
      "metadata": {
        "id": "ljQKt-3DCkQm"
      },
      "source": [
        "!python ballpark.py -cf=\"Contraints_scene_tight.txt\" --train_root_path=\"/content/drive/My Drive/Colab Notebooks/affordances/datasets/scene_google\" --val_root_path=\"/content/drive/My Drive/Colab Notebooks/affordances/datasets/indoor_outdoor_imagenet_validation\" --output_path=\"/content/drive/My Drive/Colab Notebooks/affordances/experiments/ballpark/indoor_outdoor_my_dataset/regression_tight\""
      ],
      "execution_count": null,
      "outputs": []
    },
    {
      "cell_type": "code",
      "metadata": {
        "id": "X0VN4v2RE2UW"
      },
      "source": [
        "!python ballpark.py --cls_method -cf=\"Contraints_scene_tight.txt\" --train_root_path=\"/content/drive/My Drive/Colab Notebooks/affordances/datasets/scene_google\" --val_root_path=\"/content/drive/My Drive/Colab Notebooks/affordances/datasets/indoor_outdoor_imagenet_validation\" --output_path=\"/content/drive/My Drive/Colab Notebooks/affordances/experiments/ballpark/indoor_outdoor_my_dataset/classification_tight\""
      ],
      "execution_count": null,
      "outputs": []
    },
    {
      "cell_type": "markdown",
      "metadata": {
        "id": "140IFQwoopxy"
      },
      "source": [
        "ade20k io"
      ]
    },
    {
      "cell_type": "markdown",
      "metadata": {
        "id": "2eX4aelhk2KM"
      },
      "source": [
        "ballpark"
      ]
    },
    {
      "cell_type": "code",
      "metadata": {
        "id": "i4LdD4OyosxK"
      },
      "source": [
        "!python ballpark.py -cf=\"constraints/indoor_outdoor_ade2k_constraints.txt\" --train_root_path=\"/content/drive/My Drive/Colab Notebooks/affordances/datasets/indoor_outdoor_ade20k/train_scenes_ade20K\" --val_root_path=\"/content/drive/My Drive/Colab Notebooks/affordances/datasets/indoor_outdoor_ade20k/val_binary_ade20K\" --output_path=\"/content/drive/My Drive/Colab Notebooks/affordances/experiments/ballpark/indoor_outdoor_ade20k/regression_my_constraints\""
      ],
      "execution_count": null,
      "outputs": []
    },
    {
      "cell_type": "markdown",
      "metadata": {
        "id": "QTGW0emgk36x"
      },
      "source": [
        "svm"
      ]
    },
    {
      "cell_type": "code",
      "metadata": {
        "id": "bolJ-WAwk5AL"
      },
      "source": [
        "!python svm_classifier.py --max_files=200 --train_root_path=\"/content/drive/My Drive/Colab Notebooks/affordances/datasets/indoor_outdoor_ade20k/train_binary_ade20K\" --val_root_path=\"/content/drive/My Drive/Colab Notebooks/affordances/datasets/indoor_outdoor_ade20k/val_binary_ade20K\" --output_path=\"/content/drive/My Drive/Colab Notebooks/affordances/experiments/ballpark/indoor_outdoor_ade20k/svm_200_clean\""
      ],
      "execution_count": null,
      "outputs": []
    },
    {
      "cell_type": "code",
      "metadata": {
        "id": "f7A1kZECrc8d"
      },
      "source": [
        "!python svm_classifier.py --train_root_path=\"/content/drive/My Drive/Colab Notebooks/affordances/datasets/indoor_outdoor_ade20k/binary_unclean_train_data\" --val_root_path=\"/content/drive/My Drive/Colab Notebooks/affordances/datasets/indoor_outdoor_ade20k/val_binary_ade20K\" --output_path=\"/content/drive/My Drive/Colab Notebooks/affordances/experiments/ballpark/indoor_outdoor_ade20k/svm_unclean\""
      ],
      "execution_count": null,
      "outputs": []
    },
    {
      "cell_type": "code",
      "metadata": {
        "id": "pcEfzRBJrgH0"
      },
      "source": [
        ""
      ],
      "execution_count": null,
      "outputs": []
    },
    {
      "cell_type": "markdown",
      "metadata": {
        "id": "dkIcPnw16-8q"
      },
      "source": [
        "swim"
      ]
    },
    {
      "cell_type": "markdown",
      "metadata": {
        "id": "CnbxIbncLi7i"
      },
      "source": [
        "ballpark"
      ]
    },
    {
      "cell_type": "code",
      "metadata": {
        "id": "6FRsmlfKpIag"
      },
      "source": [
        "!python ballpark.py -cf=\"constraints/swim_ade20k_true_constraints_eps_03.txt\" --train_root_path=\"/content/drive/My Drive/Colab Notebooks/affordances/datasets/swim_ade20k/train\" --val_root_path=\"/content/drive/My Drive/Colab Notebooks/affordances/datasets/swim_ade20k/test_binary\" --output_path=\"/content/drive/My Drive/Colab Notebooks/affordances/experiments/ballpark/swim_ade20k/regression_true_constraints\""
      ],
      "execution_count": null,
      "outputs": []
    },
    {
      "cell_type": "code",
      "metadata": {
        "id": "DJsiqBB35Lz_"
      },
      "source": [
        "!python ballpark.py -cf=\"constraints/swim_ade20k_true_constraints_eps_03.txt\" --train_root_path=\"/content/drive/My Drive/Colab Notebooks/affordances/datasets/swim_ade20k/train\" --val_root_path=\"/content/drive/My Drive/Colab Notebooks/affordances/datasets/swim_ade20k/test_binary\" --output_path=\"/content/drive/My Drive/Colab Notebooks/affordances/experiments/ballpark/swim_ade20k/regression_true_constraints_tighter\""
      ],
      "execution_count": null,
      "outputs": []
    },
    {
      "cell_type": "markdown",
      "metadata": {
        "id": "1s4fJg8NLk7p"
      },
      "source": [
        "svm"
      ]
    },
    {
      "cell_type": "code",
      "metadata": {
        "id": "mWcaiak_LmHq",
        "outputId": "37dabbbd-de87-443a-fbf6-782447ed2cae",
        "colab": {
          "base_uri": "https://localhost:8080/"
        }
      },
      "source": [
        "!python svm_classifier.py --max_files=200 --train_root_path=\"/content/drive/My Drive/Colab Notebooks/affordances/datasets/swim_ade20k/train_binary\" --val_root_path=\"/content/drive/My Drive/Colab Notebooks/affordances/datasets/swim_ade20k/test_binary\" --output_path=\"/content/drive/My Drive/Colab Notebooks/affordances/experiments/ballpark/swim_ade20k/svm_clean_200\""
      ],
      "execution_count": 14,
      "outputs": [
        {
          "output_type": "stream",
          "text": [
            "2020-11-26 17:00:38.377185: I tensorflow/stream_executor/platform/default/dso_loader.cc:48] Successfully opened dynamic library libcudart.so.10.1\n",
            "Reads constraints file\n",
            "Initialize dataloader\n",
            "Found 1904 images belonging to 2 classes.\n",
            "Found 0 images belonging to 2 classes.\n",
            "Found 302 images belonging to 2 classes.\n",
            "Found 0 images belonging to 2 classes.\n",
            "Split data into bags\n",
            "2020-11-26 17:00:40.815323: I tensorflow/stream_executor/platform/default/dso_loader.cc:48] Successfully opened dynamic library libcuda.so.1\n",
            "2020-11-26 17:00:40.856340: I tensorflow/stream_executor/cuda/cuda_gpu_executor.cc:982] successful NUMA node read from SysFS had negative value (-1), but there must be at least one NUMA node, so returning NUMA node zero\n",
            "2020-11-26 17:00:40.856957: I tensorflow/core/common_runtime/gpu/gpu_device.cc:1716] Found device 0 with properties: \n",
            "pciBusID: 0000:00:04.0 name: Tesla T4 computeCapability: 7.5\n",
            "coreClock: 1.59GHz coreCount: 40 deviceMemorySize: 14.73GiB deviceMemoryBandwidth: 298.08GiB/s\n",
            "2020-11-26 17:00:40.856994: I tensorflow/stream_executor/platform/default/dso_loader.cc:48] Successfully opened dynamic library libcudart.so.10.1\n",
            "2020-11-26 17:00:40.858703: I tensorflow/stream_executor/platform/default/dso_loader.cc:48] Successfully opened dynamic library libcublas.so.10\n",
            "2020-11-26 17:00:40.860442: I tensorflow/stream_executor/platform/default/dso_loader.cc:48] Successfully opened dynamic library libcufft.so.10\n",
            "2020-11-26 17:00:40.860820: I tensorflow/stream_executor/platform/default/dso_loader.cc:48] Successfully opened dynamic library libcurand.so.10\n",
            "2020-11-26 17:00:40.862908: I tensorflow/stream_executor/platform/default/dso_loader.cc:48] Successfully opened dynamic library libcusolver.so.10\n",
            "2020-11-26 17:00:40.864121: I tensorflow/stream_executor/platform/default/dso_loader.cc:48] Successfully opened dynamic library libcusparse.so.10\n",
            "2020-11-26 17:00:40.868074: I tensorflow/stream_executor/platform/default/dso_loader.cc:48] Successfully opened dynamic library libcudnn.so.7\n",
            "2020-11-26 17:00:40.868189: I tensorflow/stream_executor/cuda/cuda_gpu_executor.cc:982] successful NUMA node read from SysFS had negative value (-1), but there must be at least one NUMA node, so returning NUMA node zero\n",
            "2020-11-26 17:00:40.868860: I tensorflow/stream_executor/cuda/cuda_gpu_executor.cc:982] successful NUMA node read from SysFS had negative value (-1), but there must be at least one NUMA node, so returning NUMA node zero\n",
            "2020-11-26 17:00:40.869416: I tensorflow/core/common_runtime/gpu/gpu_device.cc:1858] Adding visible gpu devices: 0\n",
            "2020-11-26 17:00:40.869770: I tensorflow/core/platform/cpu_feature_guard.cc:142] This TensorFlow binary is optimized with oneAPI Deep Neural Network Library (oneDNN)to use the following CPU instructions in performance-critical operations:  AVX2 FMA\n",
            "To enable them in other operations, rebuild TensorFlow with the appropriate compiler flags.\n",
            "2020-11-26 17:00:40.875155: I tensorflow/core/platform/profile_utils/cpu_utils.cc:104] CPU Frequency: 2200000000 Hz\n",
            "2020-11-26 17:00:40.875376: I tensorflow/compiler/xla/service/service.cc:168] XLA service 0x23f8d80 initialized for platform Host (this does not guarantee that XLA will be used). Devices:\n",
            "2020-11-26 17:00:40.875406: I tensorflow/compiler/xla/service/service.cc:176]   StreamExecutor device (0): Host, Default Version\n",
            "2020-11-26 17:00:40.986350: I tensorflow/stream_executor/cuda/cuda_gpu_executor.cc:982] successful NUMA node read from SysFS had negative value (-1), but there must be at least one NUMA node, so returning NUMA node zero\n",
            "2020-11-26 17:00:40.987304: I tensorflow/compiler/xla/service/service.cc:168] XLA service 0x23f8f40 initialized for platform CUDA (this does not guarantee that XLA will be used). Devices:\n",
            "2020-11-26 17:00:40.987344: I tensorflow/compiler/xla/service/service.cc:176]   StreamExecutor device (0): Tesla T4, Compute Capability 7.5\n",
            "2020-11-26 17:00:40.987598: I tensorflow/stream_executor/cuda/cuda_gpu_executor.cc:982] successful NUMA node read from SysFS had negative value (-1), but there must be at least one NUMA node, so returning NUMA node zero\n",
            "2020-11-26 17:00:40.988410: I tensorflow/core/common_runtime/gpu/gpu_device.cc:1716] Found device 0 with properties: \n",
            "pciBusID: 0000:00:04.0 name: Tesla T4 computeCapability: 7.5\n",
            "coreClock: 1.59GHz coreCount: 40 deviceMemorySize: 14.73GiB deviceMemoryBandwidth: 298.08GiB/s\n",
            "2020-11-26 17:00:40.988471: I tensorflow/stream_executor/platform/default/dso_loader.cc:48] Successfully opened dynamic library libcudart.so.10.1\n",
            "2020-11-26 17:00:40.988529: I tensorflow/stream_executor/platform/default/dso_loader.cc:48] Successfully opened dynamic library libcublas.so.10\n",
            "2020-11-26 17:00:40.988555: I tensorflow/stream_executor/platform/default/dso_loader.cc:48] Successfully opened dynamic library libcufft.so.10\n",
            "2020-11-26 17:00:40.988577: I tensorflow/stream_executor/platform/default/dso_loader.cc:48] Successfully opened dynamic library libcurand.so.10\n",
            "2020-11-26 17:00:40.988605: I tensorflow/stream_executor/platform/default/dso_loader.cc:48] Successfully opened dynamic library libcusolver.so.10\n",
            "2020-11-26 17:00:40.988626: I tensorflow/stream_executor/platform/default/dso_loader.cc:48] Successfully opened dynamic library libcusparse.so.10\n",
            "2020-11-26 17:00:40.988648: I tensorflow/stream_executor/platform/default/dso_loader.cc:48] Successfully opened dynamic library libcudnn.so.7\n",
            "2020-11-26 17:00:40.988735: I tensorflow/stream_executor/cuda/cuda_gpu_executor.cc:982] successful NUMA node read from SysFS had negative value (-1), but there must be at least one NUMA node, so returning NUMA node zero\n",
            "2020-11-26 17:00:40.989603: I tensorflow/stream_executor/cuda/cuda_gpu_executor.cc:982] successful NUMA node read from SysFS had negative value (-1), but there must be at least one NUMA node, so returning NUMA node zero\n",
            "2020-11-26 17:00:40.990373: I tensorflow/core/common_runtime/gpu/gpu_device.cc:1858] Adding visible gpu devices: 0\n",
            "2020-11-26 17:00:40.990437: I tensorflow/stream_executor/platform/default/dso_loader.cc:48] Successfully opened dynamic library libcudart.so.10.1\n",
            "2020-11-26 17:00:41.753949: I tensorflow/core/common_runtime/gpu/gpu_device.cc:1257] Device interconnect StreamExecutor with strength 1 edge matrix:\n",
            "2020-11-26 17:00:41.754018: I tensorflow/core/common_runtime/gpu/gpu_device.cc:1263]      0 \n",
            "2020-11-26 17:00:41.754037: I tensorflow/core/common_runtime/gpu/gpu_device.cc:1276] 0:   N \n",
            "2020-11-26 17:00:41.754255: I tensorflow/stream_executor/cuda/cuda_gpu_executor.cc:982] successful NUMA node read from SysFS had negative value (-1), but there must be at least one NUMA node, so returning NUMA node zero\n",
            "2020-11-26 17:00:41.754899: I tensorflow/stream_executor/cuda/cuda_gpu_executor.cc:982] successful NUMA node read from SysFS had negative value (-1), but there must be at least one NUMA node, so returning NUMA node zero\n",
            "2020-11-26 17:00:41.755451: W tensorflow/core/common_runtime/gpu/gpu_bfc_allocator.cc:39] Overriding allow_growth setting because the TF_FORCE_GPU_ALLOW_GROWTH environment variable is set. Original config value was 0.\n",
            "2020-11-26 17:00:41.755496: I tensorflow/core/common_runtime/gpu/gpu_device.cc:1402] Created TensorFlow device (/job:localhost/replica:0/task:0/device:GPU:0 with 13936 MB memory) -> physical GPU (device: 0, name: Tesla T4, pci bus id: 0000:00:04.0, compute capability: 7.5)\n",
            "Bags names dict_keys(['0', '1'])\n",
            "Bags names dict_keys(['0', '1'])\n",
            "2020-11-26 17:00:44.890710: I tensorflow/stream_executor/platform/default/dso_loader.cc:48] Successfully opened dynamic library libcudnn.so.7\n",
            "2020-11-26 17:00:46.454359: I tensorflow/stream_executor/platform/default/dso_loader.cc:48] Successfully opened dynamic library libcublas.so.10\n",
            "     pcost       dcost       gap    pres   dres\n",
            " 0:  5.3284e+00 -4.0816e+03  9e+03  1e-01  3e-13\n",
            " 1:  5.9762e+00 -1.4740e+02  3e+02  4e-03  3e-13\n",
            " 2:  2.5646e+00 -2.9046e+01  5e+01  5e-04  2e-13\n",
            " 3:  9.0196e-01 -5.7577e+00  9e+00  6e-05  2e-13\n",
            " 4:  1.7953e-01 -4.2396e-01  6e-01  6e-07  9e-14\n",
            " 5: -1.1855e-02 -9.2079e-02  8e-02  2e-16  4e-14\n",
            " 6: -3.1029e-02 -4.4296e-02  1e-02  2e-16  2e-14\n",
            " 7: -3.4425e-02 -3.7474e-02  3e-03  2e-16  2e-14\n",
            " 8: -3.5395e-02 -3.6110e-02  7e-04  2e-16  2e-14\n",
            " 9: -3.5591e-02 -3.5620e-02  3e-05  2e-16  2e-14\n",
            "10: -3.5602e-02 -3.5602e-02  7e-07  2e-16  2e-14\n",
            "11: -3.5602e-02 -3.5602e-02  2e-08  2e-16  2e-14\n",
            "Optimal solution found.\n",
            "Alphas =  [0.00339341 0.00024488 0.00012702 0.00028575 0.00046805 0.00028223\n",
            " 0.00028144 0.00054688 0.00066941 0.00028144 0.00034354 0.0001047\n",
            " 0.00020793 0.00066218 0.00093655 0.0002296  0.00015812 0.00037572\n",
            " 0.00015291 0.00044717 0.00012702 0.00086832 0.00039155 0.00086832\n",
            " 0.00066078 0.00037166 0.00035727 0.00030014 0.00015812 0.00020793\n",
            " 0.00181871 0.00039378 0.00024137 0.0009887  0.00015812 0.00053321\n",
            " 0.0007637  0.00047468 0.00171991 0.00036247 0.00040766 0.00020793\n",
            " 0.00016987 0.00028065 0.00061411 0.00120841 0.0005448  0.00039155\n",
            " 0.00020381 0.00057014 0.00053449 0.00021126 0.0001047  0.00034354\n",
            " 0.00021381 0.00063199 0.00123273 0.00230612 0.00221109 0.0005448\n",
            " 0.00071275 0.00010338 0.00065469 0.00040245 0.00067148 0.00090369\n",
            " 0.0005025  0.00042947 0.00020365 0.0001322  0.00027533 0.00043576\n",
            " 0.00162555 0.00037889 0.00010759 0.00137587 0.00090324 0.0014479\n",
            " 0.00079972 0.00028202 0.00058433 0.00019846 0.00012065 0.00106335\n",
            " 0.00056249 0.00058374 0.00041592 0.00161711 0.00139349 0.00047528\n",
            " 0.00017242 0.00061916 0.00043591 0.00017582 0.00017582 0.00032782\n",
            " 0.00062054 0.00033364 0.00105605 0.00071946 0.0005703  0.00083691\n",
            " 0.00016885 0.00012512 0.0004113  0.00029259 0.00023196 0.00136275\n",
            " 0.00038557 0.00032056 0.00045408 0.00095633 0.00027071 0.00020135\n",
            " 0.00027485 0.00093088 0.00012324 0.00024028 0.00038251 0.00114431\n",
            " 0.00046124 0.00018841]\n",
            "w =  (4096,)\n",
            "b =  [-0.83202671]\n",
            "<Figure size 640x480 with 1 Axes>\n",
            "215 30 10 47\n",
            "<Figure size 640x480 with 1 Axes>\n",
            "<Figure size 640x480 with 1 Axes>\n"
          ],
          "name": "stdout"
        }
      ]
    },
    {
      "cell_type": "code",
      "metadata": {
        "id": "fa7CPZF5YyeQ"
      },
      "source": [
        "!python svm_classifier.py --train_root_path=\"/content/drive/My Drive/Colab Notebooks/affordances/datasets/swim_ade20k/binary_unclean_train_data\" --val_root_path=\"/content/drive/My Drive/Colab Notebooks/affordances/datasets/swim_ade20k/test_binary\" --output_path=\"/content/drive/My Drive/Colab Notebooks/affordances/experiments/ballpark/swim_ade20k/svm_unclean\""
      ],
      "execution_count": null,
      "outputs": []
    },
    {
      "cell_type": "markdown",
      "metadata": {
        "id": "9psZ5yuJsZhB"
      },
      "source": [
        "Stabbing experiment"
      ]
    },
    {
      "cell_type": "code",
      "metadata": {
        "id": "QMGvzjtMsbuB",
        "colab": {
          "base_uri": "https://localhost:8080/"
        },
        "outputId": "f3ec0b12-f374-49ba-af3e-b4a9232b222a"
      },
      "source": [
        "!python ballpark.py --cls_method -cf=\"stab_constraints.txt\" --train_root_path=\"/content/drive/My Drive/Colab Notebooks/affordances/datasets/stab_google\" --val_root_path=\"/content/drive/My Drive/Colab Notebooks/affordances/datasets/stab_ballpark_binary_validation\" --output_path=\"/content/drive/My Drive/Colab Notebooks/affordances/experiments/ballpark/stab_ballpark_classification\""
      ],
      "execution_count": null,
      "outputs": [
        {
          "output_type": "stream",
          "text": [
            "2020-11-21 17:22:55.755702: I tensorflow/stream_executor/platform/default/dso_loader.cc:48] Successfully opened dynamic library libcudart.so.10.1\n",
            "Reads constraints file\n",
            "Bag \n",
            "['Bag ']\n",
            "Boots \n",
            "['Boots ']\n",
            "Bottle \n",
            "['Bottle ']\n",
            "Box \n",
            "['Box ']\n",
            "Cup \n",
            "['Cup ']\n",
            "Glasses \n",
            "['Glasses ']\n",
            "Lamp \n",
            "['Lamp ']\n",
            "Pot \n",
            "['Pot ']\n",
            "Socks \n",
            "['Socks ']\n",
            "Fishing_rod \n",
            "['Fishing_rod ']\n",
            "Wheel \n",
            "['Wheel ']\n",
            "fork \n",
            "['fork ']\n",
            "Knife \n",
            "['Knife ']\n",
            "Pencil \n",
            "['Pencil ']\n",
            "Scissors \n",
            "['Scissors ']\n",
            "Screwdriver \n",
            "['Screwdriver ']\n",
            "Sword \n",
            "['Sword ']\n",
            "Sword_fish \n",
            "['Sword_fish ']\n",
            "Tweezers \n",
            "['Tweezers ']\n",
            "Umbrella \n",
            "['Umbrella ']\n",
            "Tweezers - Wheel \n",
            "['Tweezers ', ' Wheel ']\n",
            "Tweezers - Bag \n",
            "['Tweezers ', ' Bag ']\n",
            "Tweezers - Boots \n",
            "['Tweezers ', ' Boots ']\n",
            "Tweezers - Pot \n",
            "['Tweezers ', ' Pot ']\n",
            "Tweezers - Socks \n",
            "['Tweezers ', ' Socks ']\n",
            "Pencil - Wheel \n",
            "['Pencil ', ' Wheel ']\n",
            "Pencil - Bag \n",
            "['Pencil ', ' Bag ']\n",
            "Pencil - Boots \n",
            "['Pencil ', ' Boots ']\n",
            "Pencil - Pot \n",
            "['Pencil ', ' Pot ']\n",
            "Pencil - Socks \n",
            "['Pencil ', ' Socks ']\n",
            "fork - Wheel \n",
            "['fork ', ' Wheel ']\n",
            "fork - Bag \n",
            "['fork ', ' Bag ']\n",
            "fork - Boots \n",
            "['fork ', ' Boots ']\n",
            "fork - Pot \n",
            "['fork ', ' Pot ']\n",
            "fork - Socks \n",
            "['fork ', ' Socks ']\n",
            "Screwdriver - Bag \n",
            "['Screwdriver ', ' Bag ']\n",
            "Screwdriver - Boots \n",
            "['Screwdriver ', ' Boots ']\n",
            "Screwdriver - Bottle \n",
            "['Screwdriver ', ' Bottle ']\n",
            "Screwdriver - Socks \n",
            "['Screwdriver ', ' Socks ']\n",
            "Screwdriver - Wheel \n",
            "['Screwdriver ', ' Wheel ']\n",
            "Screwdriver - Umbrella \n",
            "['Screwdriver ', ' Umbrella ']\n",
            "Screwdriver - Tweezers \n",
            "['Screwdriver ', ' Tweezers ']\n",
            "Screwdriver - Pot \n",
            "['Screwdriver ', ' Pot ']\n",
            "Sword - Bag \n",
            "['Sword ', ' Bag ']\n",
            "Sword - Boots \n",
            "['Sword ', ' Boots ']\n",
            "Sword - Bottle \n",
            "['Sword ', ' Bottle ']\n",
            "Sword - Socks \n",
            "['Sword ', ' Socks ']\n",
            "Sword - Wheel \n",
            "['Sword ', ' Wheel ']\n",
            "Sword - Umbrella \n",
            "['Sword ', ' Umbrella ']\n",
            "Sword - Tweezers \n",
            "['Sword ', ' Tweezers ']\n",
            "Sword - Pot \n",
            "['Sword ', ' Pot ']\n",
            "Knife - Bag \n",
            "['Knife ', ' Bag ']\n",
            "Knife - Boots \n",
            "['Knife ', ' Boots ']\n",
            "Knife - Bottle \n",
            "['Knife ', ' Bottle ']\n",
            "Knife - Socks \n",
            "['Knife ', ' Socks ']\n",
            "Knife - Wheel \n",
            "['Knife ', ' Wheel ']\n",
            "Knife - Umbrella \n",
            "['Knife ', ' Umbrella ']\n",
            "Knife - Tweezers \n",
            "['Knife ', ' Tweezers ']\n",
            "Knife - Pot \n",
            "['Knife ', ' Pot ']\n",
            "Initialize dataloader\n",
            "Found 7630 images belonging to 20 classes.\n",
            "Found 0 images belonging to 20 classes.\n",
            "Found 461 images belonging to 2 classes.\n",
            "Found 0 images belonging to 2 classes.\n",
            "Split data into bags\n",
            "2020-11-21 17:22:58.264190: I tensorflow/stream_executor/platform/default/dso_loader.cc:48] Successfully opened dynamic library libcuda.so.1\n",
            "2020-11-21 17:22:58.286223: I tensorflow/stream_executor/cuda/cuda_gpu_executor.cc:982] successful NUMA node read from SysFS had negative value (-1), but there must be at least one NUMA node, so returning NUMA node zero\n",
            "2020-11-21 17:22:58.286814: I tensorflow/core/common_runtime/gpu/gpu_device.cc:1716] Found device 0 with properties: \n",
            "pciBusID: 0000:00:04.0 name: Tesla P100-PCIE-16GB computeCapability: 6.0\n",
            "coreClock: 1.3285GHz coreCount: 56 deviceMemorySize: 15.90GiB deviceMemoryBandwidth: 681.88GiB/s\n",
            "2020-11-21 17:22:58.286865: I tensorflow/stream_executor/platform/default/dso_loader.cc:48] Successfully opened dynamic library libcudart.so.10.1\n",
            "2020-11-21 17:22:58.288923: I tensorflow/stream_executor/platform/default/dso_loader.cc:48] Successfully opened dynamic library libcublas.so.10\n",
            "2020-11-21 17:22:58.295055: I tensorflow/stream_executor/platform/default/dso_loader.cc:48] Successfully opened dynamic library libcufft.so.10\n",
            "2020-11-21 17:22:58.295517: I tensorflow/stream_executor/platform/default/dso_loader.cc:48] Successfully opened dynamic library libcurand.so.10\n",
            "2020-11-21 17:22:58.297524: I tensorflow/stream_executor/platform/default/dso_loader.cc:48] Successfully opened dynamic library libcusolver.so.10\n",
            "2020-11-21 17:22:58.298718: I tensorflow/stream_executor/platform/default/dso_loader.cc:48] Successfully opened dynamic library libcusparse.so.10\n",
            "2020-11-21 17:22:58.303303: I tensorflow/stream_executor/platform/default/dso_loader.cc:48] Successfully opened dynamic library libcudnn.so.7\n",
            "2020-11-21 17:22:58.303468: I tensorflow/stream_executor/cuda/cuda_gpu_executor.cc:982] successful NUMA node read from SysFS had negative value (-1), but there must be at least one NUMA node, so returning NUMA node zero\n",
            "2020-11-21 17:22:58.304120: I tensorflow/stream_executor/cuda/cuda_gpu_executor.cc:982] successful NUMA node read from SysFS had negative value (-1), but there must be at least one NUMA node, so returning NUMA node zero\n",
            "2020-11-21 17:22:58.304705: I tensorflow/core/common_runtime/gpu/gpu_device.cc:1858] Adding visible gpu devices: 0\n",
            "2020-11-21 17:22:58.305058: I tensorflow/core/platform/cpu_feature_guard.cc:142] This TensorFlow binary is optimized with oneAPI Deep Neural Network Library (oneDNN)to use the following CPU instructions in performance-critical operations:  AVX2 AVX512F FMA\n",
            "To enable them in other operations, rebuild TensorFlow with the appropriate compiler flags.\n",
            "2020-11-21 17:22:58.310518: I tensorflow/core/platform/profile_utils/cpu_utils.cc:104] CPU Frequency: 2000170000 Hz\n",
            "2020-11-21 17:22:58.310702: I tensorflow/compiler/xla/service/service.cc:168] XLA service 0x30daf40 initialized for platform Host (this does not guarantee that XLA will be used). Devices:\n",
            "2020-11-21 17:22:58.310729: I tensorflow/compiler/xla/service/service.cc:176]   StreamExecutor device (0): Host, Default Version\n",
            "2020-11-21 17:22:58.400830: I tensorflow/stream_executor/cuda/cuda_gpu_executor.cc:982] successful NUMA node read from SysFS had negative value (-1), but there must be at least one NUMA node, so returning NUMA node zero\n",
            "2020-11-21 17:22:58.402048: I tensorflow/compiler/xla/service/service.cc:168] XLA service 0x30db100 initialized for platform CUDA (this does not guarantee that XLA will be used). Devices:\n",
            "2020-11-21 17:22:58.402157: I tensorflow/compiler/xla/service/service.cc:176]   StreamExecutor device (0): Tesla P100-PCIE-16GB, Compute Capability 6.0\n",
            "2020-11-21 17:22:58.402543: I tensorflow/stream_executor/cuda/cuda_gpu_executor.cc:982] successful NUMA node read from SysFS had negative value (-1), but there must be at least one NUMA node, so returning NUMA node zero\n",
            "2020-11-21 17:22:58.403404: I tensorflow/core/common_runtime/gpu/gpu_device.cc:1716] Found device 0 with properties: \n",
            "pciBusID: 0000:00:04.0 name: Tesla P100-PCIE-16GB computeCapability: 6.0\n",
            "coreClock: 1.3285GHz coreCount: 56 deviceMemorySize: 15.90GiB deviceMemoryBandwidth: 681.88GiB/s\n",
            "2020-11-21 17:22:58.404257: I tensorflow/stream_executor/platform/default/dso_loader.cc:48] Successfully opened dynamic library libcudart.so.10.1\n",
            "2020-11-21 17:22:58.404332: I tensorflow/stream_executor/platform/default/dso_loader.cc:48] Successfully opened dynamic library libcublas.so.10\n",
            "2020-11-21 17:22:58.404365: I tensorflow/stream_executor/platform/default/dso_loader.cc:48] Successfully opened dynamic library libcufft.so.10\n",
            "2020-11-21 17:22:58.404390: I tensorflow/stream_executor/platform/default/dso_loader.cc:48] Successfully opened dynamic library libcurand.so.10\n",
            "2020-11-21 17:22:58.404414: I tensorflow/stream_executor/platform/default/dso_loader.cc:48] Successfully opened dynamic library libcusolver.so.10\n",
            "2020-11-21 17:22:58.404464: I tensorflow/stream_executor/platform/default/dso_loader.cc:48] Successfully opened dynamic library libcusparse.so.10\n",
            "2020-11-21 17:22:58.404516: I tensorflow/stream_executor/platform/default/dso_loader.cc:48] Successfully opened dynamic library libcudnn.so.7\n",
            "2020-11-21 17:22:58.404681: I tensorflow/stream_executor/cuda/cuda_gpu_executor.cc:982] successful NUMA node read from SysFS had negative value (-1), but there must be at least one NUMA node, so returning NUMA node zero\n",
            "2020-11-21 17:22:58.406298: I tensorflow/stream_executor/cuda/cuda_gpu_executor.cc:982] successful NUMA node read from SysFS had negative value (-1), but there must be at least one NUMA node, so returning NUMA node zero\n",
            "2020-11-21 17:22:58.406856: I tensorflow/core/common_runtime/gpu/gpu_device.cc:1858] Adding visible gpu devices: 0\n",
            "2020-11-21 17:22:58.406916: I tensorflow/stream_executor/platform/default/dso_loader.cc:48] Successfully opened dynamic library libcudart.so.10.1\n",
            "2020-11-21 17:22:59.119037: I tensorflow/core/common_runtime/gpu/gpu_device.cc:1257] Device interconnect StreamExecutor with strength 1 edge matrix:\n",
            "2020-11-21 17:22:59.119100: I tensorflow/core/common_runtime/gpu/gpu_device.cc:1263]      0 \n",
            "2020-11-21 17:22:59.119113: I tensorflow/core/common_runtime/gpu/gpu_device.cc:1276] 0:   N \n",
            "2020-11-21 17:22:59.119331: I tensorflow/stream_executor/cuda/cuda_gpu_executor.cc:982] successful NUMA node read from SysFS had negative value (-1), but there must be at least one NUMA node, so returning NUMA node zero\n",
            "2020-11-21 17:22:59.120042: I tensorflow/stream_executor/cuda/cuda_gpu_executor.cc:982] successful NUMA node read from SysFS had negative value (-1), but there must be at least one NUMA node, so returning NUMA node zero\n",
            "2020-11-21 17:22:59.120589: W tensorflow/core/common_runtime/gpu/gpu_bfc_allocator.cc:39] Overriding allow_growth setting because the TF_FORCE_GPU_ALLOW_GROWTH environment variable is set. Original config value was 0.\n",
            "2020-11-21 17:22:59.120636: I tensorflow/core/common_runtime/gpu/gpu_device.cc:1402] Created TensorFlow device (/job:localhost/replica:0/task:0/device:GPU:0 with 14951 MB memory) -> physical GPU (device: 0, name: Tesla P100-PCIE-16GB, pci bus id: 0000:00:04.0, compute capability: 6.0)\n",
            "Bags names dict_keys(['Bag', 'Boots', 'Bottle', 'Box', 'Cup', 'Fishing_rod', 'Glasses', 'Knife', 'Lamp', 'Pencil', 'Pot', 'Scissors', 'Screwdriver', 'Socks', 'Sword', 'Sword_fish', 'Tweezers', 'Umbrella', 'Wheel', 'fork'])\n",
            "Bags names dict_keys(['0', '1'])\n",
            "Initialize ballpark model\n",
            "Initialize ballpark parameters\n",
            "Bags names dict_keys(['Bag', 'Boots', 'Bottle', 'Box', 'Cup', 'Fishing_rod', 'Glasses', 'Knife', 'Lamp', 'Pencil', 'Pot', 'Scissors', 'Screwdriver', 'Socks', 'Sword', 'Sword_fish', 'Tweezers', 'Umbrella', 'Wheel', 'fork'])\n",
            "Constraints diff_lowers [(('Tweezers', 'Wheel'), 0.1), (('Tweezers', 'Bag'), 0.1), (('Tweezers', 'Boots'), 0.1), (('Tweezers', 'Pot'), 0.1), (('Tweezers', 'Socks'), 0.1), (('Pencil', 'Wheel'), 0.1), (('Pencil', 'Bag'), 0.1), (('Pencil', 'Boots'), 0.1), (('Pencil', 'Pot'), 0.1), (('Pencil', 'Socks'), 0.1), (('fork', 'Wheel'), 0.1), (('fork', 'Bag'), 0.1), (('fork', 'Boots'), 0.1), (('fork', 'Pot'), 0.1), (('fork', 'Socks'), 0.1), (('Screwdriver', 'Bag'), 0.3), (('Screwdriver', 'Boots'), 0.3), (('Screwdriver', 'Bottle'), 0.1), (('Screwdriver', 'Socks'), 0.3), (('Screwdriver', 'Wheel'), 0.3), (('Screwdriver', 'Umbrella'), 0.1), (('Screwdriver', 'Tweezers'), 0.1), (('Screwdriver', 'Pot'), 0.3), (('Sword', 'Bag'), 0.3), (('Sword', 'Boots'), 0.3), (('Sword', 'Bottle'), 0.1), (('Sword', 'Socks'), 0.3), (('Sword', 'Wheel'), 0.3), (('Sword', 'Umbrella'), 0.1), (('Sword', 'Tweezers'), 0.1), (('Sword', 'Pot'), 0.3), (('Knife', 'Bag'), 0.3), (('Knife', 'Boots'), 0.3), (('Knife', 'Bottle'), 0.1), (('Knife', 'Socks'), 0.3), (('Knife', 'Wheel'), 0.3), (('Knife', 'Umbrella'), 0.1), (('Knife', 'Tweezers'), 0.1), (('Knife', 'Pot'), 0.3)]\n",
            "diff_uppers []\n",
            "lowers {'Fishing_rod': 0.6, 'fork': 0.6, 'Knife': 0.8, 'Pencil': 0.7, 'Scissors': 0.7, 'Screwdriver': 0.8, 'Sword': 0.8, 'Sword_fish': 0.6, 'Tweezers': 0.6, 'Umbrella': 0.2}\n",
            "uppers {'Bag': 0.2, 'Boots': 0.2, 'Bottle': 0.3, 'Box': 0.2, 'Cup': 0.3, 'Glasses': 0.4, 'Lamp': 0.4, 'Pot': 0.3, 'Socks': 0.2, 'Wheel': 0.3}\n",
            "\n",
            "constraints are legal - True\n",
            "w size 4096\n",
            "y size 7630\n",
            "Start ballpark learning\n",
            "[('Tweezers', 'Wheel'), ('Tweezers', 'Bag'), ('Tweezers', 'Boots'), ('Tweezers', 'Pot'), ('Tweezers', 'Socks'), ('Pencil', 'Wheel'), ('Pencil', 'Bag'), ('Pencil', 'Boots'), ('Pencil', 'Pot'), ('Pencil', 'Socks'), ('fork', 'Wheel'), ('fork', 'Bag'), ('fork', 'Boots'), ('fork', 'Pot'), ('fork', 'Socks'), ('Screwdriver', 'Bag'), ('Screwdriver', 'Boots'), ('Screwdriver', 'Bottle'), ('Screwdriver', 'Socks'), ('Screwdriver', 'Wheel'), ('Screwdriver', 'Umbrella'), ('Screwdriver', 'Tweezers'), ('Screwdriver', 'Pot'), ('Sword', 'Bag'), ('Sword', 'Boots'), ('Sword', 'Bottle'), ('Sword', 'Socks'), ('Sword', 'Wheel'), ('Sword', 'Umbrella'), ('Sword', 'Tweezers'), ('Sword', 'Pot'), ('Knife', 'Bag'), ('Knife', 'Boots'), ('Knife', 'Bottle'), ('Knife', 'Socks'), ('Knife', 'Wheel'), ('Knife', 'Umbrella'), ('Knife', 'Tweezers'), ('Knife', 'Pot')]\n",
            "2020-11-21 17:23:31.287382: I tensorflow/stream_executor/platform/default/dso_loader.cc:48] Successfully opened dynamic library libcudnn.so.7\n",
            "2020-11-21 17:23:32.129336: I tensorflow/stream_executor/platform/default/dso_loader.cc:48] Successfully opened dynamic library libcublas.so.10\n",
            "2020-11-21 17:23:32.522075: W tensorflow/core/common_runtime/bfc_allocator.cc:246] Allocator (GPU_0_bfc) ran out of memory trying to allocate 2.15GiB with freed_by_count=0. The caller indicates that this is not a failure, but may mean that there could be performance gains if more memory were available.\n",
            "(4096,)\n",
            "[-0.40460677  1.21175612  0.35256593 ... -2.00170763  0.47041762\n",
            "  0.58136656]\n",
            "0.9940594926551986\n",
            "1: end of solve w_y iteration with distance 0.9940594926551986\n",
            "[-0.00706726  0.00443634 -0.00207134 ... -0.00440773  0.00134033\n",
            " -0.00195667]\n",
            "0.42468664981964294\n",
            "2: end of solve w_y iteration with distance 0.42468664981964294\n",
            "[-0.0061511   0.01626838  0.00046122 ... -0.00195048  0.00252531\n",
            "  0.00444757]\n",
            "0.19594151188726305\n",
            "3: end of solve w_y iteration with distance 0.19594151188726305\n",
            "[-0.00245628  0.01456255 -0.00021572 ... -0.00318393  0.0013505\n",
            " -0.00054898]\n",
            "0.1371736745829314\n",
            "4: end of solve w_y iteration with distance 0.1371736745829314\n",
            "[-0.0053739   0.01374328  0.00417131 ... -0.00449917  0.0013564\n",
            " -0.00161614]\n",
            "0.07310142366542252\n",
            "5: end of solve w_y iteration with distance 0.07310142366542252\n",
            "[-0.00570761  0.01546119  0.00401976 ... -0.00643224  0.00242549\n",
            " -0.00151069]\n",
            "0.046660411328281436\n",
            "6: end of solve w_y iteration with distance 0.046660411328281436\n",
            "[-0.00535332  0.01843455  0.00076566 ... -0.00533674  0.00245066\n",
            " -0.0016956 ]\n",
            "0.044720747524757805\n",
            "7: end of solve w_y iteration with distance 0.044720747524757805\n",
            "[-0.01125273  0.01677737 -0.0003455  ... -0.00998696  0.00330896\n",
            " -0.00064684]\n",
            "0.05288488338609031\n",
            "8: end of solve w_y iteration with distance 0.05288488338609031\n",
            "[-0.0081682   0.01763638  0.00460857 ... -0.01369146  0.00534853\n",
            " -0.00232072]\n",
            "0.02447099654662984\n",
            "9: end of solve w_y iteration with distance 0.02447099654662984\n",
            "[-0.00842409  0.01728858  0.00167377 ... -0.01539505  0.00542732\n",
            " -0.00410329]\n",
            "0.017644105717666416\n",
            "10: end of solve w_y iteration with distance 0.017644105717666416\n",
            "[-0.00844542  0.01726476  0.00137651 ... -0.01513124  0.00475015\n",
            " -0.00149393]\n",
            "0.029140659668710184\n",
            "11: end of solve w_y iteration with distance 0.029140659668710184\n",
            "[-0.0081519   0.01769023  0.00296229 ... -0.01359486  0.00496366\n",
            " -0.00424831]\n"
          ],
          "name": "stdout"
        }
      ]
    }
  ]
}